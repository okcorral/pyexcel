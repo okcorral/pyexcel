{
 "cells": [
  {
   "cell_type": "markdown",
   "metadata": {},
   "source": [
    "##### Import dateutil / dateparser"
   ]
  },
  {
   "cell_type": "code",
   "execution_count": 1,
   "metadata": {},
   "outputs": [],
   "source": [
    "import dateutil.parser as du_parser"
   ]
  },
  {
   "cell_type": "code",
   "execution_count": 2,
   "metadata": {},
   "outputs": [],
   "source": [
    "date_value = du_parser.parse('23 February 2017')"
   ]
  },
  {
   "cell_type": "code",
   "execution_count": 3,
   "metadata": {},
   "outputs": [
    {
     "data": {
      "text/plain": [
       "datetime.datetime(2017, 2, 23, 0, 0)"
      ]
     },
     "execution_count": 3,
     "metadata": {},
     "output_type": "execute_result"
    }
   ],
   "source": [
    "date_value"
   ]
  },
  {
   "cell_type": "markdown",
   "metadata": {},
   "source": [
    "Import workbook"
   ]
  },
  {
   "cell_type": "code",
   "execution_count": 4,
   "metadata": {},
   "outputs": [],
   "source": [
    "import pandas as pd, openpyxl\n",
    "from openpyxl import load_workbook"
   ]
  },
  {
   "cell_type": "markdown",
   "metadata": {},
   "source": [
    "Load workbook into memory"
   ]
  },
  {
   "cell_type": "code",
   "execution_count": 5,
   "metadata": {},
   "outputs": [],
   "source": [
    "wb = load_workbook(r'C:\\Users\\Carol\\Dropbox\\GECForest_Database\\survey_data\\COG\\COG_Ndoki\\normalized\\COG_Ndoki_normalized.xlsx', data_only=True) #read_only=True, #guess_types=True)"
   ]
  },
  {
   "cell_type": "markdown",
   "metadata": {},
   "source": [
    "List worksheets"
   ]
  },
  {
   "cell_type": "code",
   "execution_count": 6,
   "metadata": {},
   "outputs": [
    {
     "data": {
      "text/plain": [
       "[<Worksheet \"Metadata\">,\n",
       " <Worksheet \"Survey Strata\">,\n",
       " <Worksheet \"Recces\">,\n",
       " <Worksheet \"Transects\">,\n",
       " <Worksheet \"Transect Observations\">,\n",
       " <Worksheet \"Recce Observations\">,\n",
       " <Worksheet \"_observations\">,\n",
       " <Worksheet \"Observation Codes\">,\n",
       " <Worksheet \"Species Codes\">,\n",
       " <Worksheet \"Survey Team\">,\n",
       " <Worksheet \"Missions\">,\n",
       " <Worksheet \"Missions_parsed\">,\n",
       " <Worksheet \"Key\">,\n",
       " <Worksheet \"Log\">]"
      ]
     },
     "execution_count": 6,
     "metadata": {},
     "output_type": "execute_result"
    }
   ],
   "source": [
    "wb.worksheets"
   ]
  },
  {
   "cell_type": "markdown",
   "metadata": {},
   "source": [
    "Isolate specific sheet"
   ]
  },
  {
   "cell_type": "code",
   "execution_count": 7,
   "metadata": {},
   "outputs": [
    {
     "data": {
      "text/plain": [
       "<Worksheet \"Missions\">"
      ]
     },
     "execution_count": 7,
     "metadata": {},
     "output_type": "execute_result"
    }
   ],
   "source": [
    "wb[\"Missions\"] #.sheet_names\n",
    "ws = wb[\"Missions\"]\n",
    "ws"
   ]
  },
  {
   "cell_type": "markdown",
   "metadata": {},
   "source": [
    "define where data exists"
   ]
  },
  {
   "cell_type": "code",
   "execution_count": 8,
   "metadata": {},
   "outputs": [
    {
     "data": {
      "text/plain": [
       "<generator object Worksheet.values at 0x00000149C643EB88>"
      ]
     },
     "execution_count": 8,
     "metadata": {},
     "output_type": "execute_result"
    }
   ],
   "source": [
    "data = ws.values\n",
    "data"
   ]
  },
  {
   "cell_type": "markdown",
   "metadata": {},
   "source": [
    "Read in column names"
   ]
  },
  {
   "cell_type": "code",
   "execution_count": 9,
   "metadata": {},
   "outputs": [
    {
     "data": {
      "text/plain": [
       "('survey_code',\n",
       " 'mission_id',\n",
       " 'start_date',\n",
       " 'end_date',\n",
       " 'survey_day',\n",
       " 'team_id',\n",
       " 'team_leader',\n",
       " 'team_assistant')"
      ]
     },
     "execution_count": 9,
     "metadata": {},
     "output_type": "execute_result"
    }
   ],
   "source": [
    "cols = next(data) ###[:1]\n",
    "cols"
   ]
  },
  {
   "cell_type": "markdown",
   "metadata": {},
   "source": [
    "Return data as a list"
   ]
  },
  {
   "cell_type": "code",
   "execution_count": 10,
   "metadata": {},
   "outputs": [
    {
     "data": {
      "text/plain": [
       "[('COD_Ndoki',\n",
       "  None,\n",
       "  '21 mars 2017',\n",
       "  '29 mars 2017',\n",
       "  None,\n",
       "  None,\n",
       "  'Arel MAPEMBI BOULINGUI',\n",
       "  'Taty'),\n",
       " ('COD_Ndoki',\n",
       "  None,\n",
       "  '1 aout 2016',\n",
       "  '15 aout 2016',\n",
       "  None,\n",
       "  None,\n",
       "  'Christian Ndzai',\n",
       "  'Phael')]"
      ]
     },
     "execution_count": 10,
     "metadata": {},
     "output_type": "execute_result"
    }
   ],
   "source": [
    "data = list(data)\n",
    "data[:2]"
   ]
  },
  {
   "cell_type": "code",
   "execution_count": 11,
   "metadata": {},
   "outputs": [],
   "source": [
    "# define a dictionary\n",
    "# idx = ([r[0] for r in data])\n",
    "# idx = 'Mission' += 1\n",
    "# idx"
   ]
  },
  {
   "cell_type": "markdown",
   "metadata": {},
   "source": [
    "Read data into dataframe and then display head"
   ]
  },
  {
   "cell_type": "code",
   "execution_count": 15,
   "metadata": {},
   "outputs": [
    {
     "data": {
      "text/html": [
       "<div>\n",
       "<style scoped>\n",
       "    .dataframe tbody tr th:only-of-type {\n",
       "        vertical-align: middle;\n",
       "    }\n",
       "\n",
       "    .dataframe tbody tr th {\n",
       "        vertical-align: top;\n",
       "    }\n",
       "\n",
       "    .dataframe thead th {\n",
       "        text-align: right;\n",
       "    }\n",
       "</style>\n",
       "<table border=\"1\" class=\"dataframe\">\n",
       "  <thead>\n",
       "    <tr style=\"text-align: right;\">\n",
       "      <th></th>\n",
       "      <th>survey_code</th>\n",
       "      <th>mission_id</th>\n",
       "      <th>start_date</th>\n",
       "      <th>end_date</th>\n",
       "      <th>survey_day</th>\n",
       "      <th>team_id</th>\n",
       "      <th>team_leader</th>\n",
       "      <th>team_assistant</th>\n",
       "    </tr>\n",
       "  </thead>\n",
       "  <tbody>\n",
       "    <tr>\n",
       "      <th>0</th>\n",
       "      <td>COD_Ndoki</td>\n",
       "      <td>None</td>\n",
       "      <td>21 mars 2017</td>\n",
       "      <td>29 mars 2017</td>\n",
       "      <td>None</td>\n",
       "      <td>None</td>\n",
       "      <td>Arel MAPEMBI BOULINGUI</td>\n",
       "      <td>Taty</td>\n",
       "    </tr>\n",
       "    <tr>\n",
       "      <th>1</th>\n",
       "      <td>COD_Ndoki</td>\n",
       "      <td>None</td>\n",
       "      <td>1 aout 2016</td>\n",
       "      <td>15 aout 2016</td>\n",
       "      <td>None</td>\n",
       "      <td>None</td>\n",
       "      <td>Christian Ndzai</td>\n",
       "      <td>Phael</td>\n",
       "    </tr>\n",
       "    <tr>\n",
       "      <th>2</th>\n",
       "      <td>COD_Ndoki</td>\n",
       "      <td>None</td>\n",
       "      <td>1 juil. 2016</td>\n",
       "      <td>17 juil. 2016</td>\n",
       "      <td>None</td>\n",
       "      <td>None</td>\n",
       "      <td>Ferre MBOUSSA</td>\n",
       "      <td>Espoir</td>\n",
       "    </tr>\n",
       "    <tr>\n",
       "      <th>3</th>\n",
       "      <td>COD_Ndoki</td>\n",
       "      <td>None</td>\n",
       "      <td>1 juil. 2016</td>\n",
       "      <td>18 juil. 2016</td>\n",
       "      <td>None</td>\n",
       "      <td>None</td>\n",
       "      <td>Frelcia BAMBI MAMPOUYA</td>\n",
       "      <td>Arel</td>\n",
       "    </tr>\n",
       "    <tr>\n",
       "      <th>4</th>\n",
       "      <td>COD_Ndoki</td>\n",
       "      <td>None</td>\n",
       "      <td>1 juil. 2016</td>\n",
       "      <td>15 juil. 2016</td>\n",
       "      <td>None</td>\n",
       "      <td>None</td>\n",
       "      <td>Joules ELARI SAMBA</td>\n",
       "      <td>Vigny</td>\n",
       "    </tr>\n",
       "  </tbody>\n",
       "</table>\n",
       "</div>"
      ],
      "text/plain": [
       "  survey_code mission_id    start_date       end_date survey_day team_id  \\\n",
       "0   COD_Ndoki       None  21 mars 2017   29 mars 2017       None    None   \n",
       "1   COD_Ndoki       None   1 aout 2016   15 aout 2016       None    None   \n",
       "2   COD_Ndoki       None  1 juil. 2016  17 juil. 2016       None    None   \n",
       "3   COD_Ndoki       None  1 juil. 2016  18 juil. 2016       None    None   \n",
       "4   COD_Ndoki       None  1 juil. 2016  15 juil. 2016       None    None   \n",
       "\n",
       "              team_leader team_assistant  \n",
       "0  Arel MAPEMBI BOULINGUI           Taty  \n",
       "1         Christian Ndzai          Phael  \n",
       "2           Ferre MBOUSSA         Espoir  \n",
       "3  Frelcia BAMBI MAMPOUYA           Arel  \n",
       "4      Joules ELARI SAMBA          Vigny  "
      ]
     },
     "execution_count": 15,
     "metadata": {},
     "output_type": "execute_result"
    }
   ],
   "source": [
    "# data = (islice(r, 1, None) for r in data)\n",
    "# df = pd.DataFrame(data, index=idx, columns=cols) # df = pd.DataFrame(ws.values)\n",
    "df = pd.DataFrame(data, columns=cols)\n",
    "df.head()"
   ]
  },
  {
   "cell_type": "markdown",
   "metadata": {},
   "source": [
    "Create series to hold column of interest and encode as string"
   ]
  },
  {
   "cell_type": "code",
   "execution_count": 16,
   "metadata": {},
   "outputs": [
    {
     "data": {
      "text/plain": [
       "pandas.core.series.Series"
      ]
     },
     "execution_count": 16,
     "metadata": {},
     "output_type": "execute_result"
    }
   ],
   "source": [
    "sd_series = df['start_date'][:58]\n",
    "sd_series.str.encode(encoding=\"utf-8\")\n",
    "type(sd_series)\n",
    "\n",
    "ed_series = df['end_date'][:58]\n",
    "ed_series.str.encode(encoding=\"utf-8\")\n",
    "type(ed_series)"
   ]
  },
  {
   "cell_type": "code",
   "execution_count": 17,
   "metadata": {},
   "outputs": [
    {
     "data": {
      "text/plain": [
       "0    Arel MAPEMBI BOULINGUI\n",
       "1           Christian Ndzai\n",
       "2             Ferre MBOUSSA\n",
       "3    Frelcia BAMBI MAMPOUYA\n",
       "4        Joules ELARI SAMBA\n",
       "Name: team_leader, dtype: object"
      ]
     },
     "execution_count": 17,
     "metadata": {},
     "output_type": "execute_result"
    }
   ],
   "source": [
    "df['team_leader'].head()"
   ]
  },
  {
   "cell_type": "markdown",
   "metadata": {},
   "source": [
    "##### Demonstrating functionality of .loc and .iloc"
   ]
  },
  {
   "cell_type": "markdown",
   "metadata": {},
   "source": [
    ".loc is used to select rows and uses 2 parameters: a row index, and list of column names; also supports slicing"
   ]
  },
  {
   "cell_type": "code",
   "execution_count": 18,
   "metadata": {},
   "outputs": [
    {
     "data": {
      "text/html": [
       "<div>\n",
       "<style scoped>\n",
       "    .dataframe tbody tr th:only-of-type {\n",
       "        vertical-align: middle;\n",
       "    }\n",
       "\n",
       "    .dataframe tbody tr th {\n",
       "        vertical-align: top;\n",
       "    }\n",
       "\n",
       "    .dataframe thead th {\n",
       "        text-align: right;\n",
       "    }\n",
       "</style>\n",
       "<table border=\"1\" class=\"dataframe\">\n",
       "  <thead>\n",
       "    <tr style=\"text-align: right;\">\n",
       "      <th></th>\n",
       "      <th>start_date</th>\n",
       "      <th>end_date</th>\n",
       "    </tr>\n",
       "  </thead>\n",
       "  <tbody>\n",
       "    <tr>\n",
       "      <th>0</th>\n",
       "      <td>21 mars 2017</td>\n",
       "      <td>29 mars 2017</td>\n",
       "    </tr>\n",
       "    <tr>\n",
       "      <th>1</th>\n",
       "      <td>1 aout 2016</td>\n",
       "      <td>15 aout 2016</td>\n",
       "    </tr>\n",
       "    <tr>\n",
       "      <th>2</th>\n",
       "      <td>1 juil. 2016</td>\n",
       "      <td>17 juil. 2016</td>\n",
       "    </tr>\n",
       "  </tbody>\n",
       "</table>\n",
       "</div>"
      ],
      "text/plain": [
       "     start_date       end_date\n",
       "0  21 mars 2017   29 mars 2017\n",
       "1   1 aout 2016   15 aout 2016\n",
       "2  1 juil. 2016  17 juil. 2016"
      ]
     },
     "execution_count": 18,
     "metadata": {},
     "output_type": "execute_result"
    }
   ],
   "source": [
    "df.loc[0:2, ('start_date', 'end_date')]"
   ]
  },
  {
   "cell_type": "markdown",
   "metadata": {},
   "source": [
    ".iloc is used with indexes but is slightly different from .loc"
   ]
  },
  {
   "cell_type": "code",
   "execution_count": 19,
   "metadata": {},
   "outputs": [
    {
     "data": {
      "text/html": [
       "<div>\n",
       "<style scoped>\n",
       "    .dataframe tbody tr th:only-of-type {\n",
       "        vertical-align: middle;\n",
       "    }\n",
       "\n",
       "    .dataframe tbody tr th {\n",
       "        vertical-align: top;\n",
       "    }\n",
       "\n",
       "    .dataframe thead th {\n",
       "        text-align: right;\n",
       "    }\n",
       "</style>\n",
       "<table border=\"1\" class=\"dataframe\">\n",
       "  <thead>\n",
       "    <tr style=\"text-align: right;\">\n",
       "      <th></th>\n",
       "      <th>survey_code</th>\n",
       "      <th>mission_id</th>\n",
       "      <th>start_date</th>\n",
       "      <th>end_date</th>\n",
       "      <th>survey_day</th>\n",
       "      <th>team_id</th>\n",
       "      <th>team_leader</th>\n",
       "      <th>team_assistant</th>\n",
       "    </tr>\n",
       "  </thead>\n",
       "  <tbody>\n",
       "    <tr>\n",
       "      <th>0</th>\n",
       "      <td>COD_Ndoki</td>\n",
       "      <td>None</td>\n",
       "      <td>21 mars 2017</td>\n",
       "      <td>29 mars 2017</td>\n",
       "      <td>None</td>\n",
       "      <td>None</td>\n",
       "      <td>Arel MAPEMBI BOULINGUI</td>\n",
       "      <td>Taty</td>\n",
       "    </tr>\n",
       "    <tr>\n",
       "      <th>1</th>\n",
       "      <td>COD_Ndoki</td>\n",
       "      <td>None</td>\n",
       "      <td>1 aout 2016</td>\n",
       "      <td>15 aout 2016</td>\n",
       "      <td>None</td>\n",
       "      <td>None</td>\n",
       "      <td>Christian Ndzai</td>\n",
       "      <td>Phael</td>\n",
       "    </tr>\n",
       "  </tbody>\n",
       "</table>\n",
       "</div>"
      ],
      "text/plain": [
       "  survey_code mission_id    start_date      end_date survey_day team_id  \\\n",
       "0   COD_Ndoki       None  21 mars 2017  29 mars 2017       None    None   \n",
       "1   COD_Ndoki       None   1 aout 2016  15 aout 2016       None    None   \n",
       "\n",
       "              team_leader team_assistant  \n",
       "0  Arel MAPEMBI BOULINGUI           Taty  \n",
       "1         Christian Ndzai          Phael  "
      ]
     },
     "execution_count": 19,
     "metadata": {},
     "output_type": "execute_result"
    }
   ],
   "source": [
    "df.iloc[0:2]"
   ]
  },
  {
   "cell_type": "markdown",
   "metadata": {},
   "source": [
    "#### Import dateparser module"
   ]
  },
  {
   "cell_type": "code",
   "execution_count": 20,
   "metadata": {},
   "outputs": [],
   "source": [
    "import dateparser"
   ]
  },
  {
   "cell_type": "markdown",
   "metadata": {},
   "source": [
    "example showing parsing of one string"
   ]
  },
  {
   "cell_type": "code",
   "execution_count": 21,
   "metadata": {},
   "outputs": [
    {
     "data": {
      "text/plain": [
       "datetime.datetime(2017, 2, 23, 0, 0)"
      ]
     },
     "execution_count": 21,
     "metadata": {},
     "output_type": "execute_result"
    }
   ],
   "source": [
    "date_value2 = dateparser.parse('23 fevr. 2017')\n",
    "date_value2"
   ]
  },
  {
   "cell_type": "code",
   "execution_count": 22,
   "metadata": {},
   "outputs": [
    {
     "data": {
      "text/plain": [
       "\u001b[1;31mType:\u001b[0m        module\n",
       "\u001b[1;31mString form:\u001b[0m <module 'dateparser' from 'c:\\\\venv\\\\pyexcel\\\\lib\\\\site-packages\\\\dateparser\\\\__init__.py'>\n",
       "\u001b[1;31mFile:\u001b[0m        c:\\venv\\pyexcel\\lib\\site-packages\\dateparser\\__init__.py\n",
       "\u001b[1;31mDocstring:\u001b[0m   <no docstring>\n"
      ]
     },
     "metadata": {},
     "output_type": "display_data"
    }
   ],
   "source": [
    "dateparser?"
   ]
  },
  {
   "cell_type": "code",
   "execution_count": 23,
   "metadata": {},
   "outputs": [
    {
     "data": {
      "text/plain": [
       "pandas.core.series.Series"
      ]
     },
     "execution_count": 23,
     "metadata": {},
     "output_type": "execute_result"
    }
   ],
   "source": [
    "type(df['start_date'][:58]) # #[:58],df['end_date']"
   ]
  },
  {
   "cell_type": "markdown",
   "metadata": {},
   "source": [
    "##### Assign parameters to help parse the date fields correctly"
   ]
  },
  {
   "cell_type": "markdown",
   "metadata": {},
   "source": [
    "create a for-loop which parses dates from 'start_date' field"
   ]
  },
  {
   "cell_type": "code",
   "execution_count": 24,
   "metadata": {},
   "outputs": [
    {
     "data": {
      "text/plain": [
       "[datetime.date(2017, 3, 21),\n",
       " datetime.date(2016, 8, 1),\n",
       " datetime.date(2016, 7, 1),\n",
       " datetime.date(2016, 7, 1),\n",
       " datetime.date(2016, 7, 1)]"
      ]
     },
     "execution_count": 24,
     "metadata": {},
     "output_type": "execute_result"
    }
   ],
   "source": [
    "# p_start_date = [dateparser.parse(x).date() for x in df['start_date']]\n",
    "p_start_date = [dateparser.parse(x).date() for x in sd_series]\n",
    "p_start_date[:5]"
   ]
  },
  {
   "cell_type": "code",
   "execution_count": 25,
   "metadata": {},
   "outputs": [
    {
     "data": {
      "text/plain": [
       "[datetime.date(2017, 3, 29),\n",
       " datetime.date(2016, 8, 15),\n",
       " datetime.date(2016, 7, 17),\n",
       " datetime.date(2016, 7, 18),\n",
       " datetime.date(2016, 7, 15)]"
      ]
     },
     "execution_count": 25,
     "metadata": {},
     "output_type": "execute_result"
    }
   ],
   "source": [
    "# p_end_date = [dateparser.parse(x).date() for x in df['end_date']]\n",
    "p_end_date = [dateparser.parse(x).date() for x in ed_series]\n",
    "p_end_date[:5] "
   ]
  },
  {
   "cell_type": "code",
   "execution_count": 26,
   "metadata": {},
   "outputs": [],
   "source": [
    "# dateparser.parse(date_string, date_formats=None, languages=None, locales=None, region=None, settings=None)\n",
    "# pdate = dateparser.parse(date_string=df['start_date'], date_formats=['%d %b %Y'],languages=['fr', 'en'])"
   ]
  },
  {
   "cell_type": "markdown",
   "metadata": {},
   "source": [
    "##### Use dateparser to parse dates in the dataframe"
   ]
  },
  {
   "cell_type": "markdown",
   "metadata": {},
   "source": [
    "Add new column to dataframe to store parsed_dates"
   ]
  },
  {
   "cell_type": "code",
   "execution_count": 27,
   "metadata": {},
   "outputs": [
    {
     "data": {
      "text/plain": [
       "pandas.core.series.Series"
      ]
     },
     "execution_count": 27,
     "metadata": {},
     "output_type": "execute_result"
    }
   ],
   "source": [
    "type(df['start_date'])"
   ]
  },
  {
   "cell_type": "markdown",
   "metadata": {},
   "source": [
    "Add new column to dataframe to store parsed_dates"
   ]
  },
  {
   "cell_type": "code",
   "execution_count": 42,
   "metadata": {},
   "outputs": [
    {
     "data": {
      "text/html": [
       "<div>\n",
       "<style scoped>\n",
       "    .dataframe tbody tr th:only-of-type {\n",
       "        vertical-align: middle;\n",
       "    }\n",
       "\n",
       "    .dataframe tbody tr th {\n",
       "        vertical-align: top;\n",
       "    }\n",
       "\n",
       "    .dataframe thead th {\n",
       "        text-align: right;\n",
       "    }\n",
       "</style>\n",
       "<table border=\"1\" class=\"dataframe\">\n",
       "  <thead>\n",
       "    <tr style=\"text-align: right;\">\n",
       "      <th></th>\n",
       "      <th>survey_code</th>\n",
       "      <th>mission_id</th>\n",
       "      <th>start_date</th>\n",
       "      <th>end_date</th>\n",
       "      <th>survey_day</th>\n",
       "      <th>team_id</th>\n",
       "      <th>team_leader</th>\n",
       "      <th>team_assistant</th>\n",
       "    </tr>\n",
       "  </thead>\n",
       "  <tbody>\n",
       "    <tr>\n",
       "      <th>0</th>\n",
       "      <td>COD_Ndoki</td>\n",
       "      <td>None</td>\n",
       "      <td>2017-03-21</td>\n",
       "      <td>2017-03-29</td>\n",
       "      <td>None</td>\n",
       "      <td>None</td>\n",
       "      <td>Arel MAPEMBI BOULINGUI</td>\n",
       "      <td>Taty</td>\n",
       "    </tr>\n",
       "    <tr>\n",
       "      <th>1</th>\n",
       "      <td>COD_Ndoki</td>\n",
       "      <td>None</td>\n",
       "      <td>2016-08-01</td>\n",
       "      <td>2016-08-15</td>\n",
       "      <td>None</td>\n",
       "      <td>None</td>\n",
       "      <td>Christian Ndzai</td>\n",
       "      <td>Phael</td>\n",
       "    </tr>\n",
       "    <tr>\n",
       "      <th>2</th>\n",
       "      <td>COD_Ndoki</td>\n",
       "      <td>None</td>\n",
       "      <td>2016-07-01</td>\n",
       "      <td>2016-07-17</td>\n",
       "      <td>None</td>\n",
       "      <td>None</td>\n",
       "      <td>Ferre MBOUSSA</td>\n",
       "      <td>Espoir</td>\n",
       "    </tr>\n",
       "    <tr>\n",
       "      <th>3</th>\n",
       "      <td>COD_Ndoki</td>\n",
       "      <td>None</td>\n",
       "      <td>2016-07-01</td>\n",
       "      <td>2016-07-18</td>\n",
       "      <td>None</td>\n",
       "      <td>None</td>\n",
       "      <td>Frelcia BAMBI MAMPOUYA</td>\n",
       "      <td>Arel</td>\n",
       "    </tr>\n",
       "    <tr>\n",
       "      <th>4</th>\n",
       "      <td>COD_Ndoki</td>\n",
       "      <td>None</td>\n",
       "      <td>2016-07-01</td>\n",
       "      <td>2016-07-15</td>\n",
       "      <td>None</td>\n",
       "      <td>None</td>\n",
       "      <td>Joules ELARI SAMBA</td>\n",
       "      <td>Vigny</td>\n",
       "    </tr>\n",
       "  </tbody>\n",
       "</table>\n",
       "</div>"
      ],
      "text/plain": [
       "  survey_code mission_id  start_date    end_date survey_day team_id  \\\n",
       "0   COD_Ndoki       None  2017-03-21  2017-03-29       None    None   \n",
       "1   COD_Ndoki       None  2016-08-01  2016-08-15       None    None   \n",
       "2   COD_Ndoki       None  2016-07-01  2016-07-17       None    None   \n",
       "3   COD_Ndoki       None  2016-07-01  2016-07-18       None    None   \n",
       "4   COD_Ndoki       None  2016-07-01  2016-07-15       None    None   \n",
       "\n",
       "              team_leader team_assistant  \n",
       "0  Arel MAPEMBI BOULINGUI           Taty  \n",
       "1         Christian Ndzai          Phael  \n",
       "2           Ferre MBOUSSA         Espoir  \n",
       "3  Frelcia BAMBI MAMPOUYA           Arel  \n",
       "4      Joules ELARI SAMBA          Vigny  "
      ]
     },
     "execution_count": 42,
     "metadata": {},
     "output_type": "execute_result"
    }
   ],
   "source": [
    "# first parameter is the actual field name where parsed dates will be assigned. copies over if it already exists\n",
    "p_df = df.assign(start_date = p_start_date, end_date = p_end_date)\n",
    "p_df.head()"
   ]
  },
  {
   "cell_type": "markdown",
   "metadata": {},
   "source": [
    "openpyxl method for writing to worksheet"
   ]
  },
  {
   "cell_type": "code",
   "execution_count": 34,
   "metadata": {},
   "outputs": [],
   "source": [
    "# change directory\n",
    "import os\n",
    "os.chdir(r\"C:\\code\\pyexcel\\worksheets\")"
   ]
  },
  {
   "cell_type": "code",
   "execution_count": 40,
   "metadata": {},
   "outputs": [],
   "source": [
    "# from https://www.datacamp.com/community/tutorials/python-excel-tutorial\n",
    "dest_filename = r\"C:\\code\\pyexcel\\worksheets\\parsed_data.xlsx\"\n",
    "dest_sheetname = 'Missions_parsed'\n",
    "\n",
    "# used pandas.DataFrame.to_excel to write DataFrame to an excel sheet\n",
    "p_df.to_excel(excel_writer=dest_filename, sheet_name=dest_sheetname)"
   ]
  },
  {
   "cell_type": "markdown",
   "metadata": {},
   "source": [
    "Probable cruft but might be useful in the future"
   ]
  },
  {
   "cell_type": "code",
   "execution_count": null,
   "metadata": {},
   "outputs": [],
   "source": [
    "# Import 'dataframe_to_rows'\n",
    "from openpyxl.utils.dataframe import dataframe_to_rows\n",
    "# wb = Workbook()\n",
    "ws = wb['Missions_parsed']\n",
    "ws.sheet_state('Missions_parsed')\n",
    "\n",
    "for r in dataframe_to_rows(p_df, index=False, header=True):\n",
    "    ws.append(r)\n",
    "\n",
    "# df.to_excel(wb,sheet_name='Missions_parsed')"
   ]
  }
 ],
 "metadata": {
  "kernelspec": {
   "display_name": "Python 3",
   "language": "python",
   "name": "python3"
  },
  "language_info": {
   "codemirror_mode": {
    "name": "ipython",
    "version": 3
   },
   "file_extension": ".py",
   "mimetype": "text/x-python",
   "name": "python",
   "nbconvert_exporter": "python",
   "pygments_lexer": "ipython3",
   "version": "3.7.0"
  }
 },
 "nbformat": 4,
 "nbformat_minor": 2
}
