{
 "cells": [
  {
   "cell_type": "markdown",
   "metadata": {},
   "source": [
    "##### import modules"
   ]
  },
  {
   "cell_type": "code",
   "execution_count": 1,
   "metadata": {},
   "outputs": [],
   "source": [
    "from datetime import datetime\n",
    "# from dateutil.parser import parse\n",
    "import dateparser\n",
    "import pandas as pd"
   ]
  },
  {
   "cell_type": "markdown",
   "metadata": {},
   "source": [
    "Converting strings to Datetime"
   ]
  },
  {
   "cell_type": "code",
   "execution_count": 2,
   "metadata": {},
   "outputs": [
    {
     "data": {
      "text/html": [
       "<div>\n",
       "<style scoped>\n",
       "    .dataframe tbody tr th:only-of-type {\n",
       "        vertical-align: middle;\n",
       "    }\n",
       "\n",
       "    .dataframe tbody tr th {\n",
       "        vertical-align: top;\n",
       "    }\n",
       "\n",
       "    .dataframe thead th {\n",
       "        text-align: right;\n",
       "    }\n",
       "</style>\n",
       "<table border=\"1\" class=\"dataframe\">\n",
       "  <thead>\n",
       "    <tr style=\"text-align: right;\">\n",
       "      <th></th>\n",
       "      <th>date_fr</th>\n",
       "      <th>transect_id</th>\n",
       "    </tr>\n",
       "  </thead>\n",
       "  <tbody>\n",
       "    <tr>\n",
       "      <th>0</th>\n",
       "      <td>26 fevr. 2017</td>\n",
       "      <td>281</td>\n",
       "    </tr>\n",
       "    <tr>\n",
       "      <th>1</th>\n",
       "      <td>26 fevr. 2017</td>\n",
       "      <td>281</td>\n",
       "    </tr>\n",
       "    <tr>\n",
       "      <th>2</th>\n",
       "      <td>26 fevr. 2017</td>\n",
       "      <td>281</td>\n",
       "    </tr>\n",
       "    <tr>\n",
       "      <th>3</th>\n",
       "      <td>24 fevr. 2017</td>\n",
       "      <td>280</td>\n",
       "    </tr>\n",
       "    <tr>\n",
       "      <th>4</th>\n",
       "      <td>23 fevr. 2017</td>\n",
       "      <td>280</td>\n",
       "    </tr>\n",
       "    <tr>\n",
       "      <th>5</th>\n",
       "      <td>23 fevr. 2017</td>\n",
       "      <td>280</td>\n",
       "    </tr>\n",
       "    <tr>\n",
       "      <th>6</th>\n",
       "      <td>22 fevr. 2017</td>\n",
       "      <td>278</td>\n",
       "    </tr>\n",
       "    <tr>\n",
       "      <th>7</th>\n",
       "      <td>24 fevr. 2017</td>\n",
       "      <td>280</td>\n",
       "    </tr>\n",
       "  </tbody>\n",
       "</table>\n",
       "</div>"
      ],
      "text/plain": [
       "         date_fr  transect_id\n",
       "0  26 fevr. 2017          281\n",
       "1  26 fevr. 2017          281\n",
       "2  26 fevr. 2017          281\n",
       "3  24 fevr. 2017          280\n",
       "4  23 fevr. 2017          280\n",
       "5  23 fevr. 2017          280\n",
       "6  22 fevr. 2017          278\n",
       "7  24 fevr. 2017          280"
      ]
     },
     "execution_count": 2,
     "metadata": {},
     "output_type": "execute_result"
    }
   ],
   "source": [
    "data = {'date_fr': ['26 fevr. 2017', '26 fevr. 2017', '26 fevr. 2017', '24 fevr. 2017', '23 fevr. 2017', '23 fevr. 2017', '22 fevr. 2017', '24 fevr. 2017'],\n",
    "             'transect_id': [281, 281, 281, 280, 280, 280, 278, 280]}\n",
    "df = pd.DataFrame(data, columns = ['date_fr', 'transect_id'])\n",
    "df"
   ]
  },
  {
   "cell_type": "markdown",
   "metadata": {},
   "source": [
    "### REGEX approach - not needed when using dateutil.parser"
   ]
  },
  {
   "cell_type": "raw",
   "metadata": {},
   "source": [
    "##### Extract Year"
   ]
  },
  {
   "cell_type": "raw",
   "metadata": {},
   "source": [
    "df['year'] = df['date'].str.extract('(\\d\\d\\d\\d)', expand=True)\n",
    "df['year']"
   ]
  },
  {
   "cell_type": "raw",
   "metadata": {},
   "source": [
    "##### Extract day"
   ]
  },
  {
   "cell_type": "raw",
   "metadata": {},
   "source": [
    "df['day'] = df['date'].str.extract('(\\d\\d)', expand=True)\n",
    "df['day']"
   ]
  },
  {
   "cell_type": "raw",
   "metadata": {},
   "source": [
    "##### Extract month"
   ]
  },
  {
   "cell_type": "raw",
   "metadata": {},
   "source": [
    "## ('([A-Z0-9._%+-])', expand = True) = 2\n",
    "## ('([A-Z]\\w{0,})', expand=True)  = NaN\n",
    "\n",
    "df['month'] = df['date'].str.extract('([A-Z0-9_%+-])', expand = True)\n",
    "df['month']\n",
    "## ('([A-Z]\\w{0,})'"
   ]
  },
  {
   "cell_type": "raw",
   "metadata": {},
   "source": [
    "df['month'] = df['date'].str.extract('([A-Z]\\w{0,})', expand = True)\n",
    "df['month']"
   ]
  },
  {
   "cell_type": "raw",
   "metadata": {},
   "source": [
    "##### Replace 'fevr.' with 2"
   ]
  },
  {
   "cell_type": "raw",
   "metadata": {},
   "source": [
    "df['month1'] = df['date'].str.replace('fevr.', str(2)) ##, expand = True)\n",
    "df['month1']"
   ]
  },
  {
   "cell_type": "raw",
   "metadata": {},
   "source": [
    "Search and replace"
   ]
  },
  {
   "cell_type": "raw",
   "metadata": {},
   "source": [
    "df_d.replace('fevr.', 2)\n",
    "df_d"
   ]
  },
  {
   "cell_type": "raw",
   "metadata": {},
   "source": [
    "Search a column of strings for a pattern"
   ]
  },
  {
   "cell_type": "raw",
   "metadata": {},
   "source": [
    "df['date'].str.contains('.. ..... ....', regex=True)"
   ]
  },
  {
   "cell_type": "raw",
   "metadata": {},
   "source": [
    "Use Regex pattern to extract datetime"
   ]
  },
  {
   "cell_type": "raw",
   "metadata": {},
   "source": [
    "pattern = '\\d' )'\n",
    "pattern = '([A-Z0-9._%+-]+)@([A-Z0-9.-]+)\\\\.([A-Z]{2,4})'"
   ]
  },
  {
   "cell_type": "markdown",
   "metadata": {},
   "source": [
    "##### Use dateparser to parse dates in "
   ]
  },
  {
   "cell_type": "code",
   "execution_count": null,
   "metadata": {},
   "outputs": [],
   "source": [
    "# ls_dates = df['date_fr']"
   ]
  },
  {
   "cell_type": "markdown",
   "metadata": {},
   "source": [
    "Create a list to contain the parsed date objects"
   ]
  },
  {
   "cell_type": "code",
   "execution_count": null,
   "metadata": {},
   "outputs": [],
   "source": [
    "# pdate = []\n",
    "# type(pdate)"
   ]
  },
  {
   "cell_type": "markdown",
   "metadata": {},
   "source": [
    "Create list to parse out dates"
   ]
  },
  {
   "cell_type": "code",
   "execution_count": 4,
   "metadata": {},
   "outputs": [],
   "source": [
    "# pdate = [dateparser.parse(x).date() for x in ls_dates]\n",
    "pdate = [dateparser.parse(x).date() for x in df['date_fr']]"
   ]
  },
  {
   "cell_type": "markdown",
   "metadata": {},
   "source": [
    "Add new column to dataframe to store parsed_dates"
   ]
  },
  {
   "cell_type": "code",
   "execution_count": 5,
   "metadata": {},
   "outputs": [
    {
     "data": {
      "text/html": [
       "<div>\n",
       "<style scoped>\n",
       "    .dataframe tbody tr th:only-of-type {\n",
       "        vertical-align: middle;\n",
       "    }\n",
       "\n",
       "    .dataframe tbody tr th {\n",
       "        vertical-align: top;\n",
       "    }\n",
       "\n",
       "    .dataframe thead th {\n",
       "        text-align: right;\n",
       "    }\n",
       "</style>\n",
       "<table border=\"1\" class=\"dataframe\">\n",
       "  <thead>\n",
       "    <tr style=\"text-align: right;\">\n",
       "      <th></th>\n",
       "      <th>date_fr</th>\n",
       "      <th>transect_id</th>\n",
       "      <th>parsed_date</th>\n",
       "    </tr>\n",
       "  </thead>\n",
       "  <tbody>\n",
       "    <tr>\n",
       "      <th>0</th>\n",
       "      <td>26 fevr. 2017</td>\n",
       "      <td>281</td>\n",
       "      <td>2017-02-26</td>\n",
       "    </tr>\n",
       "    <tr>\n",
       "      <th>1</th>\n",
       "      <td>26 fevr. 2017</td>\n",
       "      <td>281</td>\n",
       "      <td>2017-02-26</td>\n",
       "    </tr>\n",
       "    <tr>\n",
       "      <th>2</th>\n",
       "      <td>26 fevr. 2017</td>\n",
       "      <td>281</td>\n",
       "      <td>2017-02-26</td>\n",
       "    </tr>\n",
       "    <tr>\n",
       "      <th>3</th>\n",
       "      <td>24 fevr. 2017</td>\n",
       "      <td>280</td>\n",
       "      <td>2017-02-24</td>\n",
       "    </tr>\n",
       "    <tr>\n",
       "      <th>4</th>\n",
       "      <td>23 fevr. 2017</td>\n",
       "      <td>280</td>\n",
       "      <td>2017-02-23</td>\n",
       "    </tr>\n",
       "    <tr>\n",
       "      <th>5</th>\n",
       "      <td>23 fevr. 2017</td>\n",
       "      <td>280</td>\n",
       "      <td>2017-02-23</td>\n",
       "    </tr>\n",
       "    <tr>\n",
       "      <th>6</th>\n",
       "      <td>22 fevr. 2017</td>\n",
       "      <td>278</td>\n",
       "      <td>2017-02-22</td>\n",
       "    </tr>\n",
       "    <tr>\n",
       "      <th>7</th>\n",
       "      <td>24 fevr. 2017</td>\n",
       "      <td>280</td>\n",
       "      <td>2017-02-24</td>\n",
       "    </tr>\n",
       "  </tbody>\n",
       "</table>\n",
       "</div>"
      ],
      "text/plain": [
       "         date_fr  transect_id parsed_date\n",
       "0  26 fevr. 2017          281  2017-02-26\n",
       "1  26 fevr. 2017          281  2017-02-26\n",
       "2  26 fevr. 2017          281  2017-02-26\n",
       "3  24 fevr. 2017          280  2017-02-24\n",
       "4  23 fevr. 2017          280  2017-02-23\n",
       "5  23 fevr. 2017          280  2017-02-23\n",
       "6  22 fevr. 2017          278  2017-02-22\n",
       "7  24 fevr. 2017          280  2017-02-24"
      ]
     },
     "execution_count": 5,
     "metadata": {},
     "output_type": "execute_result"
    }
   ],
   "source": [
    "df.assign(parsed_date = pdate)"
   ]
  },
  {
   "cell_type": "code",
   "execution_count": 6,
   "metadata": {},
   "outputs": [
    {
     "data": {
      "text/plain": [
       "[datetime.date(2017, 2, 26),\n",
       " datetime.date(2017, 2, 26),\n",
       " datetime.date(2017, 2, 26),\n",
       " datetime.date(2017, 2, 24),\n",
       " datetime.date(2017, 2, 23),\n",
       " datetime.date(2017, 2, 23),\n",
       " datetime.date(2017, 2, 22),\n",
       " datetime.date(2017, 2, 24)]"
      ]
     },
     "execution_count": 6,
     "metadata": {},
     "output_type": "execute_result"
    }
   ],
   "source": [
    "pdate"
   ]
  },
  {
   "cell_type": "markdown",
   "metadata": {},
   "source": [
    "Format dates correctly"
   ]
  },
  {
   "cell_type": "code",
   "execution_count": null,
   "metadata": {},
   "outputs": [],
   "source": [
    "pdate_format = [dateparser.parse(x, '%m/%d/%Y') for x in ls_dates]"
   ]
  },
  {
   "cell_type": "code",
   "execution_count": null,
   "metadata": {},
   "outputs": [],
   "source": [
    "pdate_format"
   ]
  },
  {
   "cell_type": "code",
   "execution_count": null,
   "metadata": {},
   "outputs": [],
   "source": [
    "type(pdate[0])"
   ]
  },
  {
   "cell_type": "markdown",
   "metadata": {},
   "source": [
    "parse pdate in specific format ('%m/%d/%Y')"
   ]
  },
  {
   "cell_type": "code",
   "execution_count": null,
   "metadata": {},
   "outputs": [],
   "source": [
    "# pd.to_datetime(df['date_fr'])\n",
    "for x in pdate:\n",
    "    print(dateparser.parse(x).date()) #,'%m/%d/%Y')"
   ]
  },
  {
   "cell_type": "code",
   "execution_count": null,
   "metadata": {},
   "outputs": [],
   "source": [
    "pdate = list([dateparser.parse(x, '%m/%d/%Y') for x in df['date_fr']])"
   ]
  },
  {
   "cell_type": "markdown",
   "metadata": {},
   "source": [
    "Extract column of digits"
   ]
  },
  {
   "cell_type": "code",
   "execution_count": null,
   "metadata": {},
   "outputs": [],
   "source": [
    "df['transect_id']"
   ]
  },
  {
   "cell_type": "markdown",
   "metadata": {},
   "source": [
    "Extract column of dates"
   ]
  },
  {
   "cell_type": "code",
   "execution_count": null,
   "metadata": {},
   "outputs": [],
   "source": [
    "df['parsed_date'] = df['date_fr'].dateparser.parse(x).date()) for x in df['date_fr']) #ls_dates)\n",
    "#str.extract('(.. ..... ....)', expand=True)\n",
    "df['parsed_date']"
   ]
  },
  {
   "cell_type": "code",
   "execution_count": null,
   "metadata": {},
   "outputs": [],
   "source": [
    "df"
   ]
  },
  {
   "cell_type": "markdown",
   "metadata": {},
   "source": [
    "Create a DataFrame"
   ]
  },
  {
   "cell_type": "markdown",
   "metadata": {},
   "source": [
    "Convert df['date'] from string to datetime"
   ]
  },
  {
   "cell_type": "code",
   "execution_count": null,
   "metadata": {},
   "outputs": [],
   "source": [
    "pd.to_datetime(df['date'])"
   ]
  }
 ],
 "metadata": {
  "kernelspec": {
   "display_name": "Python 3",
   "language": "python",
   "name": "python3"
  },
  "language_info": {
   "codemirror_mode": {
    "name": "ipython",
    "version": 3
   },
   "file_extension": ".py",
   "mimetype": "text/x-python",
   "name": "python",
   "nbconvert_exporter": "python",
   "pygments_lexer": "ipython3",
   "version": "3.5.3"
  }
 },
 "nbformat": 4,
 "nbformat_minor": 2
}
