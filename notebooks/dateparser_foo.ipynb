{
 "cells": [
  {
   "cell_type": "markdown",
   "metadata": {},
   "source": [
    "Import dateutil / dateparser"
   ]
  },
  {
   "cell_type": "code",
   "execution_count": 1,
   "metadata": {},
   "outputs": [],
   "source": [
    "import dateutil.parser as du_parser"
   ]
  },
  {
   "cell_type": "code",
   "execution_count": 2,
   "metadata": {},
   "outputs": [],
   "source": [
    "date_value = du_parser.parse('23 February 2017')"
   ]
  },
  {
   "cell_type": "code",
   "execution_count": 3,
   "metadata": {},
   "outputs": [
    {
     "data": {
      "text/plain": [
       "datetime.datetime(2017, 2, 23, 0, 0)"
      ]
     },
     "execution_count": 3,
     "metadata": {},
     "output_type": "execute_result"
    }
   ],
   "source": [
    "date_value"
   ]
  },
  {
   "cell_type": "markdown",
   "metadata": {},
   "source": [
    "Import workbook"
   ]
  },
  {
   "cell_type": "code",
   "execution_count": 4,
   "metadata": {},
   "outputs": [],
   "source": [
    "import pandas as pd, openpyxl\n",
    "from openpyxl import load_workbook"
   ]
  },
  {
   "cell_type": "code",
   "execution_count": 5,
   "metadata": {},
   "outputs": [],
   "source": [
    "# load workbook into memory\n",
    "wb = load_workbook(r'C:\\Users\\Carol\\Dropbox\\GECForest_Database\\survey_data\\COG\\COG_Ndoki\\normalized\\COG_Ndoki_normalized.xlsx')"
   ]
  },
  {
   "cell_type": "code",
   "execution_count": 6,
   "metadata": {},
   "outputs": [
    {
     "data": {
      "text/plain": [
       "[<Worksheet \"Metadata\">,\n",
       " <Worksheet \"Survey Strata\">,\n",
       " <Worksheet \"Recces\">,\n",
       " <Worksheet \"Transects\">,\n",
       " <Worksheet \"Transect Observations\">,\n",
       " <Worksheet \"Recce Observations\">,\n",
       " <Worksheet \"_observations\">,\n",
       " <Worksheet \"Observation Codes\">,\n",
       " <Worksheet \"Survey Team\">,\n",
       " <Worksheet \"Missions\">,\n",
       " <Worksheet \"_missions\">,\n",
       " <Worksheet \"Key\">,\n",
       " <Worksheet \"Log\">]"
      ]
     },
     "execution_count": 6,
     "metadata": {},
     "output_type": "execute_result"
    }
   ],
   "source": [
    "# list worksheets\n",
    "wb.worksheets"
   ]
  },
  {
   "cell_type": "code",
   "execution_count": 7,
   "metadata": {},
   "outputs": [],
   "source": [
    "# specify active worksheet\n",
    "ws = wb[\"Missions\"]"
   ]
  },
  {
   "cell_type": "code",
   "execution_count": 8,
   "metadata": {},
   "outputs": [
    {
     "data": {
      "text/plain": [
       "<Worksheet \"Missions\">"
      ]
     },
     "execution_count": 8,
     "metadata": {},
     "output_type": "execute_result"
    }
   ],
   "source": [
    "ws"
   ]
  },
  {
   "cell_type": "markdown",
   "metadata": {},
   "source": [
    "define where data exists"
   ]
  },
  {
   "cell_type": "code",
   "execution_count": 9,
   "metadata": {},
   "outputs": [
    {
     "data": {
      "text/plain": [
       "<generator object Worksheet.values at 0x000001BE616651B0>"
      ]
     },
     "execution_count": 9,
     "metadata": {},
     "output_type": "execute_result"
    }
   ],
   "source": [
    "data = ws.values\n",
    "data"
   ]
  },
  {
   "cell_type": "code",
   "execution_count": 10,
   "metadata": {},
   "outputs": [
    {
     "data": {
      "text/plain": [
       "('survey_code',\n",
       " 'mission_id',\n",
       " 'start_date',\n",
       " 'end_date',\n",
       " 'survey_day',\n",
       " 'team_id',\n",
       " 'team_leader',\n",
       " 'team_assistant',\n",
       " None)"
      ]
     },
     "execution_count": 10,
     "metadata": {},
     "output_type": "execute_result"
    }
   ],
   "source": [
    "cols = next(data)[:]\n",
    "cols"
   ]
  },
  {
   "cell_type": "code",
   "execution_count": 11,
   "metadata": {},
   "outputs": [],
   "source": [
    "data = list(data) #return a list\n",
    "# data.index()"
   ]
  },
  {
   "cell_type": "code",
   "execution_count": 12,
   "metadata": {},
   "outputs": [
    {
     "ename": "SyntaxError",
     "evalue": "invalid syntax (<ipython-input-12-5432386fbf28>, line 3)",
     "output_type": "error",
     "traceback": [
      "\u001b[1;36m  File \u001b[1;32m\"<ipython-input-12-5432386fbf28>\"\u001b[1;36m, line \u001b[1;32m3\u001b[0m\n\u001b[1;33m    idx = 'Mission' += 1\u001b[0m\n\u001b[1;37m                     ^\u001b[0m\n\u001b[1;31mSyntaxError\u001b[0m\u001b[1;31m:\u001b[0m invalid syntax\n"
     ]
    }
   ],
   "source": [
    "# define a dictionary\n",
    "# idx = ([r[0] for r in data])\n",
    "idx = 'Mission' += 1\n",
    "idx"
   ]
  },
  {
   "cell_type": "markdown",
   "metadata": {},
   "source": [
    "Read data into dataframe and then display head"
   ]
  },
  {
   "cell_type": "code",
   "execution_count": 13,
   "metadata": {},
   "outputs": [
    {
     "data": {
      "text/html": [
       "<div>\n",
       "<style scoped>\n",
       "    .dataframe tbody tr th:only-of-type {\n",
       "        vertical-align: middle;\n",
       "    }\n",
       "\n",
       "    .dataframe tbody tr th {\n",
       "        vertical-align: top;\n",
       "    }\n",
       "\n",
       "    .dataframe thead th {\n",
       "        text-align: right;\n",
       "    }\n",
       "</style>\n",
       "<table border=\"1\" class=\"dataframe\">\n",
       "  <thead>\n",
       "    <tr style=\"text-align: right;\">\n",
       "      <th></th>\n",
       "      <th>survey_code</th>\n",
       "      <th>mission_id</th>\n",
       "      <th>start_date</th>\n",
       "      <th>end_date</th>\n",
       "      <th>survey_day</th>\n",
       "      <th>team_id</th>\n",
       "      <th>team_leader</th>\n",
       "      <th>team_assistant</th>\n",
       "      <th>None</th>\n",
       "    </tr>\n",
       "  </thead>\n",
       "  <tbody>\n",
       "    <tr>\n",
       "      <th>0</th>\n",
       "      <td>COD_Ndoki</td>\n",
       "      <td>None</td>\n",
       "      <td>21 mars 2017</td>\n",
       "      <td>29 mars 2017</td>\n",
       "      <td>None</td>\n",
       "      <td>None</td>\n",
       "      <td>Arel MAPEMBI BOULINGUI</td>\n",
       "      <td>Taty</td>\n",
       "      <td>None</td>\n",
       "    </tr>\n",
       "    <tr>\n",
       "      <th>1</th>\n",
       "      <td>COD_Ndoki</td>\n",
       "      <td>None</td>\n",
       "      <td>1 aout 2016</td>\n",
       "      <td>15 aout 2016</td>\n",
       "      <td>None</td>\n",
       "      <td>None</td>\n",
       "      <td>Christian Ndzai</td>\n",
       "      <td>Phael</td>\n",
       "      <td>None</td>\n",
       "    </tr>\n",
       "    <tr>\n",
       "      <th>2</th>\n",
       "      <td>COD_Ndoki</td>\n",
       "      <td>None</td>\n",
       "      <td>1 juil. 2016</td>\n",
       "      <td>17 juil. 2016</td>\n",
       "      <td>None</td>\n",
       "      <td>None</td>\n",
       "      <td>Ferre MBOUSSA</td>\n",
       "      <td>Espoir</td>\n",
       "      <td>None</td>\n",
       "    </tr>\n",
       "    <tr>\n",
       "      <th>3</th>\n",
       "      <td>COD_Ndoki</td>\n",
       "      <td>None</td>\n",
       "      <td>1 juil. 2016</td>\n",
       "      <td>18 juil. 2016</td>\n",
       "      <td>None</td>\n",
       "      <td>None</td>\n",
       "      <td>Frelcia BAMBI MAMPOUYA</td>\n",
       "      <td>Arel</td>\n",
       "      <td>None</td>\n",
       "    </tr>\n",
       "    <tr>\n",
       "      <th>4</th>\n",
       "      <td>COD_Ndoki</td>\n",
       "      <td>None</td>\n",
       "      <td>1 juil. 2016</td>\n",
       "      <td>15 juil. 2016</td>\n",
       "      <td>None</td>\n",
       "      <td>None</td>\n",
       "      <td>Joules ELARI SAMBA</td>\n",
       "      <td>Vigny</td>\n",
       "      <td>None</td>\n",
       "    </tr>\n",
       "  </tbody>\n",
       "</table>\n",
       "</div>"
      ],
      "text/plain": [
       "  survey_code mission_id    start_date       end_date survey_day team_id  \\\n",
       "0   COD_Ndoki       None  21 mars 2017   29 mars 2017       None    None   \n",
       "1   COD_Ndoki       None   1 aout 2016   15 aout 2016       None    None   \n",
       "2   COD_Ndoki       None  1 juil. 2016  17 juil. 2016       None    None   \n",
       "3   COD_Ndoki       None  1 juil. 2016  18 juil. 2016       None    None   \n",
       "4   COD_Ndoki       None  1 juil. 2016  15 juil. 2016       None    None   \n",
       "\n",
       "              team_leader team_assistant   NaN  \n",
       "0  Arel MAPEMBI BOULINGUI           Taty  None  \n",
       "1         Christian Ndzai          Phael  None  \n",
       "2           Ferre MBOUSSA         Espoir  None  \n",
       "3  Frelcia BAMBI MAMPOUYA           Arel  None  \n",
       "4      Joules ELARI SAMBA          Vigny  None  "
      ]
     },
     "execution_count": 13,
     "metadata": {},
     "output_type": "execute_result"
    }
   ],
   "source": [
    "# data = (islice(r, 1, None) for r in data)\n",
    "# df = pd.DataFrame(data, index=idx, columns=cols) # df = pd.DataFrame(ws.values)\n",
    "df = pd.DataFrame(data, columns=cols)\n",
    "df.head()"
   ]
  },
  {
   "cell_type": "code",
   "execution_count": 14,
   "metadata": {},
   "outputs": [
    {
     "data": {
      "text/plain": [
       "pandas.core.series.Series"
      ]
     },
     "execution_count": 14,
     "metadata": {},
     "output_type": "execute_result"
    }
   ],
   "source": [
    "df['start_date']\n",
    "type(df['start_date'])"
   ]
  },
  {
   "cell_type": "code",
   "execution_count": 15,
   "metadata": {},
   "outputs": [
    {
     "data": {
      "text/plain": [
       "0    Arel MAPEMBI BOULINGUI\n",
       "1           Christian Ndzai\n",
       "2             Ferre MBOUSSA\n",
       "3    Frelcia BAMBI MAMPOUYA\n",
       "4        Joules ELARI SAMBA\n",
       "Name: team_leader, dtype: object"
      ]
     },
     "execution_count": 15,
     "metadata": {},
     "output_type": "execute_result"
    }
   ],
   "source": [
    "df['team_leader'].head()"
   ]
  },
  {
   "cell_type": "markdown",
   "metadata": {},
   "source": [
    "##### Demonstrating functionality of .loc and .iloc"
   ]
  },
  {
   "cell_type": "markdown",
   "metadata": {},
   "source": [
    ".loc is used to select rows and uses 2 parameters: a row index, and list of column names; also supports slicing"
   ]
  },
  {
   "cell_type": "code",
   "execution_count": 16,
   "metadata": {},
   "outputs": [
    {
     "data": {
      "text/html": [
       "<div>\n",
       "<style scoped>\n",
       "    .dataframe tbody tr th:only-of-type {\n",
       "        vertical-align: middle;\n",
       "    }\n",
       "\n",
       "    .dataframe tbody tr th {\n",
       "        vertical-align: top;\n",
       "    }\n",
       "\n",
       "    .dataframe thead th {\n",
       "        text-align: right;\n",
       "    }\n",
       "</style>\n",
       "<table border=\"1\" class=\"dataframe\">\n",
       "  <thead>\n",
       "    <tr style=\"text-align: right;\">\n",
       "      <th></th>\n",
       "      <th>start_date</th>\n",
       "      <th>end_date</th>\n",
       "    </tr>\n",
       "  </thead>\n",
       "  <tbody>\n",
       "    <tr>\n",
       "      <th>0</th>\n",
       "      <td>21 mars 2017</td>\n",
       "      <td>29 mars 2017</td>\n",
       "    </tr>\n",
       "    <tr>\n",
       "      <th>1</th>\n",
       "      <td>1 aout 2016</td>\n",
       "      <td>15 aout 2016</td>\n",
       "    </tr>\n",
       "    <tr>\n",
       "      <th>2</th>\n",
       "      <td>1 juil. 2016</td>\n",
       "      <td>17 juil. 2016</td>\n",
       "    </tr>\n",
       "  </tbody>\n",
       "</table>\n",
       "</div>"
      ],
      "text/plain": [
       "     start_date       end_date\n",
       "0  21 mars 2017   29 mars 2017\n",
       "1   1 aout 2016   15 aout 2016\n",
       "2  1 juil. 2016  17 juil. 2016"
      ]
     },
     "execution_count": 16,
     "metadata": {},
     "output_type": "execute_result"
    }
   ],
   "source": [
    "df.loc[0:2, ('start_date', 'end_date')]"
   ]
  },
  {
   "cell_type": "markdown",
   "metadata": {},
   "source": [
    ".iloc is used with indexes but is slightly different from .loc"
   ]
  },
  {
   "cell_type": "code",
   "execution_count": 17,
   "metadata": {},
   "outputs": [
    {
     "data": {
      "text/html": [
       "<div>\n",
       "<style scoped>\n",
       "    .dataframe tbody tr th:only-of-type {\n",
       "        vertical-align: middle;\n",
       "    }\n",
       "\n",
       "    .dataframe tbody tr th {\n",
       "        vertical-align: top;\n",
       "    }\n",
       "\n",
       "    .dataframe thead th {\n",
       "        text-align: right;\n",
       "    }\n",
       "</style>\n",
       "<table border=\"1\" class=\"dataframe\">\n",
       "  <thead>\n",
       "    <tr style=\"text-align: right;\">\n",
       "      <th></th>\n",
       "      <th>survey_code</th>\n",
       "      <th>mission_id</th>\n",
       "      <th>start_date</th>\n",
       "      <th>end_date</th>\n",
       "      <th>survey_day</th>\n",
       "      <th>team_id</th>\n",
       "      <th>team_leader</th>\n",
       "      <th>team_assistant</th>\n",
       "      <th>None</th>\n",
       "    </tr>\n",
       "  </thead>\n",
       "  <tbody>\n",
       "    <tr>\n",
       "      <th>0</th>\n",
       "      <td>COD_Ndoki</td>\n",
       "      <td>None</td>\n",
       "      <td>21 mars 2017</td>\n",
       "      <td>29 mars 2017</td>\n",
       "      <td>None</td>\n",
       "      <td>None</td>\n",
       "      <td>Arel MAPEMBI BOULINGUI</td>\n",
       "      <td>Taty</td>\n",
       "      <td>None</td>\n",
       "    </tr>\n",
       "    <tr>\n",
       "      <th>1</th>\n",
       "      <td>COD_Ndoki</td>\n",
       "      <td>None</td>\n",
       "      <td>1 aout 2016</td>\n",
       "      <td>15 aout 2016</td>\n",
       "      <td>None</td>\n",
       "      <td>None</td>\n",
       "      <td>Christian Ndzai</td>\n",
       "      <td>Phael</td>\n",
       "      <td>None</td>\n",
       "    </tr>\n",
       "  </tbody>\n",
       "</table>\n",
       "</div>"
      ],
      "text/plain": [
       "  survey_code mission_id    start_date      end_date survey_day team_id  \\\n",
       "0   COD_Ndoki       None  21 mars 2017  29 mars 2017       None    None   \n",
       "1   COD_Ndoki       None   1 aout 2016  15 aout 2016       None    None   \n",
       "\n",
       "              team_leader team_assistant   NaN  \n",
       "0  Arel MAPEMBI BOULINGUI           Taty  None  \n",
       "1         Christian Ndzai          Phael  None  "
      ]
     },
     "execution_count": 17,
     "metadata": {},
     "output_type": "execute_result"
    }
   ],
   "source": [
    "df.iloc[0:2]"
   ]
  },
  {
   "cell_type": "markdown",
   "metadata": {},
   "source": [
    "#### Import dateparser module"
   ]
  },
  {
   "cell_type": "code",
   "execution_count": 18,
   "metadata": {},
   "outputs": [],
   "source": [
    "import dateparser"
   ]
  },
  {
   "cell_type": "markdown",
   "metadata": {},
   "source": [
    "example showing parsing of one string"
   ]
  },
  {
   "cell_type": "code",
   "execution_count": 19,
   "metadata": {},
   "outputs": [
    {
     "data": {
      "text/plain": [
       "datetime.datetime(2017, 2, 23, 0, 0)"
      ]
     },
     "execution_count": 19,
     "metadata": {},
     "output_type": "execute_result"
    }
   ],
   "source": [
    "date_value2 = dateparser.parse('23 fevr. 2017')\n",
    "date_value2"
   ]
  },
  {
   "cell_type": "code",
   "execution_count": 20,
   "metadata": {},
   "outputs": [
    {
     "data": {
      "text/plain": [
       "\u001b[1;31mType:\u001b[0m        module\n",
       "\u001b[1;31mString form:\u001b[0m <module 'dateparser' from 'c:\\\\venv\\\\pyexcel\\\\lib\\\\site-packages\\\\dateparser\\\\__init__.py'>\n",
       "\u001b[1;31mFile:\u001b[0m        c:\\venv\\pyexcel\\lib\\site-packages\\dateparser\\__init__.py\n",
       "\u001b[1;31mDocstring:\u001b[0m   <no docstring>\n"
      ]
     },
     "metadata": {},
     "output_type": "display_data"
    }
   ],
   "source": [
    "dateparser?"
   ]
  },
  {
   "cell_type": "code",
   "execution_count": 25,
   "metadata": {},
   "outputs": [
    {
     "data": {
      "text/plain": [
       "0             21 mars 2017\n",
       "1              1 aout 2016\n",
       "2             1 juil. 2016\n",
       "3             1 juil. 2016\n",
       "4             1 juil. 2016\n",
       "5             1 juil. 2016\n",
       "6               1 mai 2016\n",
       "7            16 fevr. 2017\n",
       "8             16 mars 2017\n",
       "9            17 fevr. 2017\n",
       "10           17 fevr. 2017\n",
       "11           19 fevr. 2017\n",
       "12           19 janv. 2017\n",
       "13            2 juil. 2016\n",
       "14            2 juil. 2016\n",
       "15            2 juil. 2016\n",
       "16             2 juin 2016\n",
       "17              2 mai 2016\n",
       "18           20 fevr. 2017\n",
       "19           20 fevr. 2017\n",
       "20           20 janv. 2017\n",
       "21           20 janv. 2017\n",
       "22            21 mars 2017\n",
       "23            21 mars 2017\n",
       "24            21 mars 2017\n",
       "25            21 mars 2017\n",
       "26            22 mars 2017\n",
       "27            22 mars 2017\n",
       "28           23 janv. 2017\n",
       "29           23 janv. 2017\n",
       "              ...         \n",
       "442    2017-01-23 00:00:00\n",
       "443    2017-01-23 00:00:00\n",
       "444    2017-01-24 00:00:00\n",
       "445    2016-02-26 00:00:00\n",
       "446    2016-01-26 00:00:00\n",
       "447    2017-01-26 00:00:00\n",
       "448    2016-05-26 00:00:00\n",
       "449    2016-05-26 00:00:00\n",
       "450    2016-08-27 00:00:00\n",
       "451    2016-08-27 00:00:00\n",
       "452    2016-08-27 00:00:00\n",
       "453    2016-02-27 00:00:00\n",
       "454    2016-03-27 00:00:00\n",
       "455    2016-03-27 00:00:00\n",
       "456    2016-03-27 00:00:00\n",
       "457    2016-08-28 00:00:00\n",
       "458    2016-04-28 00:00:00\n",
       "459    2016-03-28 00:00:00\n",
       "460    2016-02-29 00:00:00\n",
       "461    2016-01-29 00:00:00\n",
       "462    2016-01-29 00:00:00\n",
       "463    2016-07-29 00:00:00\n",
       "464    2016-07-29 00:00:00\n",
       "465    2016-07-29 00:00:00\n",
       "466    2016-04-30 00:00:00\n",
       "467    2016-07-30 00:00:00\n",
       "468    2016-07-30 00:00:00\n",
       "469    2016-07-30 00:00:00\n",
       "470    2016-03-30 00:00:00\n",
       "471    2016-05-31 00:00:00\n",
       "Name: start_date, Length: 472, dtype: object"
      ]
     },
     "execution_count": 25,
     "metadata": {},
     "output_type": "execute_result"
    }
   ],
   "source": [
    "df['start_date']"
   ]
  },
  {
   "cell_type": "markdown",
   "metadata": {},
   "source": [
    "##### Assign parameters to help parse the date fields correctly"
   ]
  },
  {
   "cell_type": "markdown",
   "metadata": {},
   "source": [
    "create a for-loop which parses dates from 'start_date' field"
   ]
  },
  {
   "cell_type": "code",
   "execution_count": 24,
   "metadata": {},
   "outputs": [
    {
     "ename": "AttributeError",
     "evalue": "'NoneType' object has no attribute 'date'",
     "output_type": "error",
     "traceback": [
      "\u001b[1;31m---------------------------------------------------------------------------\u001b[0m",
      "\u001b[1;31mAttributeError\u001b[0m                            Traceback (most recent call last)",
      "\u001b[1;32m<ipython-input-24-e537a802c0b8>\u001b[0m in \u001b[0;36m<module>\u001b[1;34m()\u001b[0m\n\u001b[1;32m----> 1\u001b[1;33m \u001b[0mp_start_date\u001b[0m \u001b[1;33m=\u001b[0m \u001b[1;33m[\u001b[0m\u001b[0mdateparser\u001b[0m\u001b[1;33m.\u001b[0m\u001b[0mparse\u001b[0m\u001b[1;33m(\u001b[0m\u001b[0mx\u001b[0m\u001b[1;33m)\u001b[0m\u001b[1;33m.\u001b[0m\u001b[0mdate\u001b[0m\u001b[1;33m(\u001b[0m\u001b[1;33m)\u001b[0m \u001b[1;32mfor\u001b[0m \u001b[0mx\u001b[0m \u001b[1;32min\u001b[0m \u001b[0mdf\u001b[0m\u001b[1;33m[\u001b[0m\u001b[1;34m'start_date'\u001b[0m\u001b[1;33m]\u001b[0m\u001b[1;33m]\u001b[0m\u001b[1;33m\u001b[0m\u001b[0m\n\u001b[0m\u001b[0;32m      2\u001b[0m \u001b[0mp_start_date\u001b[0m\u001b[1;33m[\u001b[0m\u001b[1;33m:\u001b[0m\u001b[1;36m5\u001b[0m\u001b[1;33m]\u001b[0m\u001b[1;33m\u001b[0m\u001b[0m\n",
      "\u001b[1;32m<ipython-input-24-e537a802c0b8>\u001b[0m in \u001b[0;36m<listcomp>\u001b[1;34m(.0)\u001b[0m\n\u001b[1;32m----> 1\u001b[1;33m \u001b[0mp_start_date\u001b[0m \u001b[1;33m=\u001b[0m \u001b[1;33m[\u001b[0m\u001b[0mdateparser\u001b[0m\u001b[1;33m.\u001b[0m\u001b[0mparse\u001b[0m\u001b[1;33m(\u001b[0m\u001b[0mx\u001b[0m\u001b[1;33m)\u001b[0m\u001b[1;33m.\u001b[0m\u001b[0mdate\u001b[0m\u001b[1;33m(\u001b[0m\u001b[1;33m)\u001b[0m \u001b[1;32mfor\u001b[0m \u001b[0mx\u001b[0m \u001b[1;32min\u001b[0m \u001b[0mdf\u001b[0m\u001b[1;33m[\u001b[0m\u001b[1;34m'start_date'\u001b[0m\u001b[1;33m]\u001b[0m\u001b[1;33m]\u001b[0m\u001b[1;33m\u001b[0m\u001b[0m\n\u001b[0m\u001b[0;32m      2\u001b[0m \u001b[0mp_start_date\u001b[0m\u001b[1;33m[\u001b[0m\u001b[1;33m:\u001b[0m\u001b[1;36m5\u001b[0m\u001b[1;33m]\u001b[0m\u001b[1;33m\u001b[0m\u001b[0m\n",
      "\u001b[1;31mAttributeError\u001b[0m: 'NoneType' object has no attribute 'date'"
     ]
    }
   ],
   "source": [
    "p_start_date = [dateparser.parse(x).date() for x in df['start_date']]\n",
    "p_start_date[:5]"
   ]
  },
  {
   "cell_type": "code",
   "execution_count": null,
   "metadata": {},
   "outputs": [],
   "source": [
    "p_end_date = [dateparser.parse(x).date() for x in df['end_date']]\n",
    "p_end_date[:5] "
   ]
  },
  {
   "cell_type": "code",
   "execution_count": null,
   "metadata": {},
   "outputs": [],
   "source": [
    "# dateparser.parse(date_string, date_formats=None, languages=None, locales=None, region=None, settings=None)\n",
    "# pdate = dateparser.parse(date_string=df['start_date'], date_formats=['%d %b %Y'],languages=['fr', 'en'])"
   ]
  },
  {
   "cell_type": "markdown",
   "metadata": {},
   "source": [
    "##### Use dateparser to parse dates into a new column in the dataframe"
   ]
  },
  {
   "cell_type": "markdown",
   "metadata": {},
   "source": [
    "Create list to parse out dates"
   ]
  },
  {
   "cell_type": "markdown",
   "metadata": {},
   "source": [
    "Add new column to dataframe to store parsed_dates"
   ]
  },
  {
   "cell_type": "code",
   "execution_count": null,
   "metadata": {},
   "outputs": [],
   "source": [
    "type(df['start_date'])"
   ]
  },
  {
   "cell_type": "markdown",
   "metadata": {},
   "source": [
    "Add new column to dataframe to store parsed_dates"
   ]
  },
  {
   "cell_type": "code",
   "execution_count": null,
   "metadata": {},
   "outputs": [],
   "source": [
    "# first parameter is the actual field name where parsed dates will be assigned. copies over if it already exists\n",
    "p_df = df.assign(start_date = p_start_date, end_date = p_end_date)\n",
    "p_df[:5]"
   ]
  },
  {
   "cell_type": "code",
   "execution_count": null,
   "metadata": {},
   "outputs": [],
   "source": [
    "p_df[:5]"
   ]
  },
  {
   "cell_type": "markdown",
   "metadata": {},
   "source": [
    "openpyxl method for writing to worksheet"
   ]
  },
  {
   "cell_type": "code",
   "execution_count": null,
   "metadata": {},
   "outputs": [],
   "source": [
    "# from https://www.datacamp.com/community/tutorials/python-excel-tutorial\n",
    "wb.create_sheet('Missions_parsed')"
   ]
  },
  {
   "cell_type": "code",
   "execution_count": null,
   "metadata": {},
   "outputs": [],
   "source": [
    "# wb.remove_sheet('Missions_parsed1')"
   ]
  },
  {
   "cell_type": "markdown",
   "metadata": {},
   "source": [
    "Ensure correct tab is active"
   ]
  },
  {
   "cell_type": "code",
   "execution_count": null,
   "metadata": {},
   "outputs": [],
   "source": [
    "wb.active"
   ]
  },
  {
   "cell_type": "code",
   "execution_count": null,
   "metadata": {},
   "outputs": [],
   "source": [
    "# Import 'dataframe_to_rows'\n",
    "from openpyxl.utils.dataframe import dataframe_to_rows\n",
    "# wb = Workbook()\n",
    "ws = wb['Missions_parsed']\n",
    "ws.sheet_state('Missions_parsed')\n",
    "\n",
    "for r in dataframe_to_rows(p_df, index=False, header=True):\n",
    "    ws.append(r)\n",
    "\n",
    "# df.to_excel(wb,sheet_name='Missions_parsed')"
   ]
  },
  {
   "cell_type": "code",
   "execution_count": null,
   "metadata": {},
   "outputs": [],
   "source": [
    "wb.save(r'C:\\Users\\Carol\\Dropbox\\GECForest_Database\\survey_data\\COG\\COG_Ndoki\\normalized\\COG_Ndoki_normalized.xlsx',)"
   ]
  },
  {
   "cell_type": "code",
   "execution_count": null,
   "metadata": {},
   "outputs": [],
   "source": [
    "df"
   ]
  }
 ],
 "metadata": {
  "kernelspec": {
   "display_name": "Python 3",
   "language": "python",
   "name": "python3"
  },
  "language_info": {
   "codemirror_mode": {
    "name": "ipython",
    "version": 3
   },
   "file_extension": ".py",
   "mimetype": "text/x-python",
   "name": "python",
   "nbconvert_exporter": "python",
   "pygments_lexer": "ipython3",
   "version": "3.7.0"
  }
 },
 "nbformat": 4,
 "nbformat_minor": 2
}
