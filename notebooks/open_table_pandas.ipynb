{
 "cells": [
  {
   "cell_type": "code",
   "execution_count": 1,
   "metadata": {},
   "outputs": [],
   "source": [
    "#from openpyxl import load_workbook\n",
    "import pandas as pd"
   ]
  },
  {
   "cell_type": "code",
   "execution_count": 2,
   "metadata": {},
   "outputs": [],
   "source": [
    "# TEST_WORKBOOK = './test_data/COG_Ndoki/normalized/COG_Ndoki_normalized.xlsx'\n",
    "TEST_WORKBOOK = r'C:\\Users\\joelm\\Dropbox (Vulcan)\\GECForest_Database\\survey_data\\COG\\COG_Ndoki\\normalized\\COG_Ndoki_normalized.xlsx'\n",
    "wb = pd.ExcelFile(TEST_WORKBOOK)"
   ]
  },
  {
   "cell_type": "code",
   "execution_count": 3,
   "metadata": {},
   "outputs": [],
   "source": [
    "STRATA_SHEET_NAME = 'Survey Strata'\n",
    "STRATA_HEADER_COUNT = 2"
   ]
  },
  {
   "cell_type": "code",
   "execution_count": 4,
   "metadata": {},
   "outputs": [],
   "source": [
    "# real ingest would use the Django survey.Stratum class\n",
    "class Stratum():\n",
    "    survey_code = None\n",
    "    name = None\n",
    "    number = None\n",
    "    description = None\n",
    "    survey_method = None\n",
    "    number_transects = None\n",
    "    distance_surveyed = None\n",
    "    number_recces = None\n",
    "    distance_recces = None\n",
    "    stratum_area = None\n",
    "    sampling_intensity = None"
   ]
  },
  {
   "cell_type": "code",
   "execution_count": 5,
   "metadata": {},
   "outputs": [],
   "source": [
    "strata = []"
   ]
  },
  {
   "cell_type": "code",
   "execution_count": 6,
   "metadata": {},
   "outputs": [
    {
     "name": "stdout",
     "output_type": "stream",
     "text": [
      "<class 'list'>\n"
     ]
    }
   ],
   "source": [
    "print(type(strata))"
   ]
  },
  {
   "cell_type": "markdown",
   "metadata": {},
   "source": [
    "##### Load one worksheet from Excel workbook"
   ]
  },
  {
   "cell_type": "code",
   "execution_count": 11,
   "metadata": {},
   "outputs": [],
   "source": [
    "# data_only resolves the formulae, read_only is a memory optimization that helps if the spreadsheet is huge\n",
    "wb = pd.ExcelFile(TEST_WORKBOOK) #, data_only=True, read_only=True)\n",
    "strata_sheet = wb.parse([]) #STRATA_SHEET_NAME"
   ]
  },
  {
   "cell_type": "markdown",
   "metadata": {},
   "source": [
    "Verify the 'wb' object type"
   ]
  },
  {
   "cell_type": "code",
   "execution_count": 12,
   "metadata": {},
   "outputs": [
    {
     "name": "stdout",
     "output_type": "stream",
     "text": [
      "<class 'pandas.io.excel.ExcelFile'>\n"
     ]
    }
   ],
   "source": [
    "print(type(wb))"
   ]
  },
  {
   "cell_type": "markdown",
   "metadata": {},
   "source": [
    "Look at parameters available for an Excel file"
   ]
  },
  {
   "cell_type": "code",
   "execution_count": 16,
   "metadata": {},
   "outputs": [
    {
     "data": {
      "text/plain": [
       "pandas.io.excel.ExcelFile"
      ]
     },
     "execution_count": 16,
     "metadata": {},
     "output_type": "execute_result"
    }
   ],
   "source": [
    "# ? wb - has io & engine parameters\n",
    "pd.ExcelFile"
   ]
  },
  {
   "cell_type": "markdown",
   "metadata": {},
   "source": [
    "Use openpyxl to read data from pandas data frame"
   ]
  },
  {
   "cell_type": "code",
   "execution_count": 17,
   "metadata": {},
   "outputs": [
    {
     "data": {
      "text/plain": [
       "<function pandas.io.excel.read_excel>"
      ]
     },
     "execution_count": 17,
     "metadata": {},
     "output_type": "execute_result"
    }
   ],
   "source": [
    "# ? before function to print all parameters\n",
    "pd.read_excel # (Shift+Tab at end of method for preview of parameters)"
   ]
  },
  {
   "cell_type": "code",
   "execution_count": 24,
   "metadata": {},
   "outputs": [
    {
     "data": {
      "text/html": [
       "<div>\n",
       "<style scoped>\n",
       "    .dataframe tbody tr th:only-of-type {\n",
       "        vertical-align: middle;\n",
       "    }\n",
       "\n",
       "    .dataframe tbody tr th {\n",
       "        vertical-align: top;\n",
       "    }\n",
       "\n",
       "    .dataframe thead th {\n",
       "        text-align: right;\n",
       "    }\n",
       "</style>\n",
       "<table border=\"1\" class=\"dataframe\">\n",
       "  <thead>\n",
       "    <tr style=\"text-align: right;\">\n",
       "      <th></th>\n",
       "      <th>survey_code</th>\n",
       "      <th>stratum_name</th>\n",
       "      <th>stratum_number</th>\n",
       "      <th>description</th>\n",
       "      <th>survey_method</th>\n",
       "      <th>number_transects</th>\n",
       "      <th>distance_surveyed</th>\n",
       "      <th>number_recces</th>\n",
       "      <th>distance_recces</th>\n",
       "      <th>stratum_area</th>\n",
       "      <th>sampling_intensity</th>\n",
       "    </tr>\n",
       "  </thead>\n",
       "  <tbody>\n",
       "    <tr>\n",
       "      <th>0</th>\n",
       "      <td>COG_Ndoki</td>\n",
       "      <td>Bailly</td>\n",
       "      <td>NaN</td>\n",
       "      <td>NaN</td>\n",
       "      <td>transect</td>\n",
       "      <td>41</td>\n",
       "      <td>81.296</td>\n",
       "      <td>NaN</td>\n",
       "      <td>NaN</td>\n",
       "      <td>5477</td>\n",
       "      <td>67.371088</td>\n",
       "    </tr>\n",
       "    <tr>\n",
       "      <th>1</th>\n",
       "      <td>COG_Ndoki</td>\n",
       "      <td>Batanga</td>\n",
       "      <td>NaN</td>\n",
       "      <td>NaN</td>\n",
       "      <td>transect</td>\n",
       "      <td>41</td>\n",
       "      <td>81.000</td>\n",
       "      <td>NaN</td>\n",
       "      <td>NaN</td>\n",
       "      <td>2276</td>\n",
       "      <td>28.098765</td>\n",
       "    </tr>\n",
       "    <tr>\n",
       "      <th>2</th>\n",
       "      <td>COG_Ndoki</td>\n",
       "      <td>Kabo</td>\n",
       "      <td>NaN</td>\n",
       "      <td>Kabo Forestry Concession</td>\n",
       "      <td>transect</td>\n",
       "      <td>51</td>\n",
       "      <td>101.606</td>\n",
       "      <td>NaN</td>\n",
       "      <td>NaN</td>\n",
       "      <td>2773</td>\n",
       "      <td>27.291695</td>\n",
       "    </tr>\n",
       "    <tr>\n",
       "      <th>3</th>\n",
       "      <td>COG_Ndoki</td>\n",
       "      <td>Lac_Tele</td>\n",
       "      <td>NaN</td>\n",
       "      <td>Lac Télé Community Reserve</td>\n",
       "      <td>transect</td>\n",
       "      <td>43</td>\n",
       "      <td>85.810</td>\n",
       "      <td>NaN</td>\n",
       "      <td>NaN</td>\n",
       "      <td>4219</td>\n",
       "      <td>49.166764</td>\n",
       "    </tr>\n",
       "    <tr>\n",
       "      <th>4</th>\n",
       "      <td>COG_Ndoki</td>\n",
       "      <td>Lound_MC</td>\n",
       "      <td>NaN</td>\n",
       "      <td>Loundougou</td>\n",
       "      <td>transect</td>\n",
       "      <td>34</td>\n",
       "      <td>67.963</td>\n",
       "      <td>NaN</td>\n",
       "      <td>NaN</td>\n",
       "      <td>3028</td>\n",
       "      <td>44.553654</td>\n",
       "    </tr>\n",
       "    <tr>\n",
       "      <th>5</th>\n",
       "      <td>COG_Ndoki</td>\n",
       "      <td>Lound_TF</td>\n",
       "      <td>NaN</td>\n",
       "      <td>Loundougou</td>\n",
       "      <td>transect</td>\n",
       "      <td>35</td>\n",
       "      <td>69.837</td>\n",
       "      <td>NaN</td>\n",
       "      <td>NaN</td>\n",
       "      <td>5455</td>\n",
       "      <td>78.110457</td>\n",
       "    </tr>\n",
       "    <tr>\n",
       "      <th>6</th>\n",
       "      <td>COG_Ndoki</td>\n",
       "      <td>Mokabi</td>\n",
       "      <td>NaN</td>\n",
       "      <td>Mokabi Forestry Concession</td>\n",
       "      <td>transect</td>\n",
       "      <td>18</td>\n",
       "      <td>36.000</td>\n",
       "      <td>NaN</td>\n",
       "      <td>NaN</td>\n",
       "      <td>1753</td>\n",
       "      <td>48.694444</td>\n",
       "    </tr>\n",
       "    <tr>\n",
       "      <th>7</th>\n",
       "      <td>COG_Ndoki</td>\n",
       "      <td>PNNN</td>\n",
       "      <td>NaN</td>\n",
       "      <td>Nouabalé-Ndoki National Park</td>\n",
       "      <td>transect</td>\n",
       "      <td>45</td>\n",
       "      <td>90.011</td>\n",
       "      <td>NaN</td>\n",
       "      <td>NaN</td>\n",
       "      <td>4071</td>\n",
       "      <td>45.227805</td>\n",
       "    </tr>\n",
       "    <tr>\n",
       "      <th>8</th>\n",
       "      <td>COG_Ndoki</td>\n",
       "      <td>Pokola</td>\n",
       "      <td>NaN</td>\n",
       "      <td>NaN</td>\n",
       "      <td>transect</td>\n",
       "      <td>45</td>\n",
       "      <td>89.971</td>\n",
       "      <td>NaN</td>\n",
       "      <td>NaN</td>\n",
       "      <td>4797</td>\n",
       "      <td>53.317180</td>\n",
       "    </tr>\n",
       "  </tbody>\n",
       "</table>\n",
       "</div>"
      ],
      "text/plain": [
       "  survey_code stratum_name  stratum_number                   description  \\\n",
       "0   COG_Ndoki       Bailly             NaN                           NaN   \n",
       "1   COG_Ndoki      Batanga             NaN                           NaN   \n",
       "2   COG_Ndoki         Kabo             NaN      Kabo Forestry Concession   \n",
       "3   COG_Ndoki     Lac_Tele             NaN    Lac Télé Community Reserve   \n",
       "4   COG_Ndoki     Lound_MC             NaN                    Loundougou   \n",
       "5   COG_Ndoki     Lound_TF             NaN                    Loundougou   \n",
       "6   COG_Ndoki       Mokabi             NaN    Mokabi Forestry Concession   \n",
       "7   COG_Ndoki         PNNN             NaN  Nouabalé-Ndoki National Park   \n",
       "8   COG_Ndoki       Pokola             NaN                           NaN   \n",
       "\n",
       "  survey_method  number_transects  distance_surveyed  number_recces  \\\n",
       "0      transect                41             81.296            NaN   \n",
       "1      transect                41             81.000            NaN   \n",
       "2      transect                51            101.606            NaN   \n",
       "3      transect                43             85.810            NaN   \n",
       "4      transect                34             67.963            NaN   \n",
       "5      transect                35             69.837            NaN   \n",
       "6      transect                18             36.000            NaN   \n",
       "7      transect                45             90.011            NaN   \n",
       "8      transect                45             89.971            NaN   \n",
       "\n",
       "   distance_recces  stratum_area  sampling_intensity  \n",
       "0              NaN          5477           67.371088  \n",
       "1              NaN          2276           28.098765  \n",
       "2              NaN          2773           27.291695  \n",
       "3              NaN          4219           49.166764  \n",
       "4              NaN          3028           44.553654  \n",
       "5              NaN          5455           78.110457  \n",
       "6              NaN          1753           48.694444  \n",
       "7              NaN          4071           45.227805  \n",
       "8              NaN          4797           53.317180  "
      ]
     },
     "execution_count": 24,
     "metadata": {},
     "output_type": "execute_result"
    }
   ],
   "source": [
    "# pd.read_excel(io, sheet_name=0, header=0, skiprows=None)\n",
    "pd.read_excel(TEST_WORKBOOK, STRATA_SHEET_NAME, header=1, index_col= None, na_value=['NA'])  #index_col='stratum_name'"
   ]
  },
  {
   "cell_type": "markdown",
   "metadata": {},
   "source": [
    "Uses Pandas to read worksheet to Pandas Data Frame"
   ]
  },
  {
   "cell_type": "code",
   "execution_count": 25,
   "metadata": {},
   "outputs": [
    {
     "ename": "AttributeError",
     "evalue": "'str' object has no attribute 'values'",
     "output_type": "error",
     "traceback": [
      "\u001b[1;31m---------------------------------------------------------------------------\u001b[0m",
      "\u001b[1;31mAttributeError\u001b[0m                            Traceback (most recent call last)",
      "\u001b[1;32m<ipython-input-25-4170be9746a3>\u001b[0m in \u001b[0;36m<module>\u001b[1;34m()\u001b[0m\n\u001b[0;32m      7\u001b[0m \u001b[1;33m\u001b[0m\u001b[0m\n\u001b[0;32m      8\u001b[0m \u001b[1;31m# ws = wb.\u001b[0m\u001b[1;33m\u001b[0m\u001b[1;33m\u001b[0m\u001b[0m\n\u001b[1;32m----> 9\u001b[1;33m \u001b[0mdata\u001b[0m \u001b[1;33m=\u001b[0m \u001b[0mSTRATA_SHEET_NAME\u001b[0m\u001b[1;33m.\u001b[0m\u001b[0mvalues\u001b[0m\u001b[1;33m\u001b[0m\u001b[0m\n\u001b[0m\u001b[0;32m     10\u001b[0m \u001b[0mcols\u001b[0m \u001b[1;33m=\u001b[0m \u001b[0mnext\u001b[0m\u001b[1;33m(\u001b[0m\u001b[0mdata\u001b[0m\u001b[1;33m)\u001b[0m\u001b[1;33m[\u001b[0m\u001b[1;36m1\u001b[0m\u001b[1;33m:\u001b[0m\u001b[1;33m]\u001b[0m\u001b[1;33m\u001b[0m\u001b[0m\n\u001b[0;32m     11\u001b[0m \u001b[0mdata\u001b[0m \u001b[1;33m=\u001b[0m \u001b[0mlist\u001b[0m\u001b[1;33m(\u001b[0m\u001b[0mdata\u001b[0m\u001b[1;33m)\u001b[0m\u001b[1;33m\u001b[0m\u001b[0m\n",
      "\u001b[1;31mAttributeError\u001b[0m: 'str' object has no attribute 'values'"
     ]
    }
   ],
   "source": [
    "# data = ws.values\n",
    "# cols = next(data)[1:]\n",
    "# data = list(data)\n",
    "# idx = [r[0] for r in data]\n",
    "# data = (islice(r, 1, None) for r in data)\n",
    "# df = DataFrame(data, index=idx, columns=cols)\n",
    "\n",
    "# ws = wb.\n",
    "data = STRATA_SHEET_NAME.values\n",
    "cols = next(data)[1:]\n",
    "data = list(data)\n",
    "idx = [r[0] for r in data]\n",
    "data = (islice(r, 1, None) for r in data)\n",
    "df = DataFrame(data, index=idx, columns=cols)"
   ]
  },
  {
   "cell_type": "code",
   "execution_count": null,
   "metadata": {},
   "outputs": [],
   "source": []
  }
 ],
 "metadata": {
  "kernelspec": {
   "display_name": "Python 3",
   "language": "python",
   "name": "python3"
  },
  "language_info": {
   "codemirror_mode": {
    "name": "ipython",
    "version": 3
   },
   "file_extension": ".py",
   "mimetype": "text/x-python",
   "name": "python",
   "nbconvert_exporter": "python",
   "pygments_lexer": "ipython3",
   "version": "3.5.3"
  }
 },
 "nbformat": 4,
 "nbformat_minor": 2
}
