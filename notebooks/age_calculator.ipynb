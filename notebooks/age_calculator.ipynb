{
 "cells": [
  {
   "cell_type": "markdown",
   "metadata": {},
   "source": [
    "This notebook allows you to play around with ages and to answer the questions like:\n",
    "- when will I be 50% of my father's age?\n",
    "- when will I be 15,000 days old?"
   ]
  },
  {
   "cell_type": "code",
   "execution_count": 1,
   "metadata": {},
   "outputs": [],
   "source": [
    "import os, sys\n"
   ]
  },
  {
   "cell_type": "code",
   "execution_count": 2,
   "metadata": {},
   "outputs": [],
   "source": [
    "import datetime as dt #documentation: https://docs.python.org/3.5/library/datetime.html"
   ]
  },
  {
   "cell_type": "markdown",
   "metadata": {},
   "source": [
    "create ordinal to store TODAY"
   ]
  },
  {
   "cell_type": "code",
   "execution_count": 3,
   "metadata": {},
   "outputs": [
    {
     "name": "stdout",
     "output_type": "stream",
     "text": [
      "736927\n"
     ]
    }
   ],
   "source": [
    "ord_today = dt.date.today().toordinal()\n",
    "print(ord_today)"
   ]
  },
  {
   "cell_type": "markdown",
   "metadata": {},
   "source": [
    "calculate time (object) now"
   ]
  },
  {
   "cell_type": "code",
   "execution_count": 4,
   "metadata": {},
   "outputs": [
    {
     "name": "stdout",
     "output_type": "stream",
     "text": [
      "2018-08-21 08:47:22.444405\n"
     ]
    }
   ],
   "source": [
    "now = dt.datetime.now()\n",
    "print(now)"
   ]
  },
  {
   "cell_type": "markdown",
   "metadata": {},
   "source": [
    "Determining my age in days"
   ]
  },
  {
   "cell_type": "code",
   "execution_count": 5,
   "metadata": {},
   "outputs": [
    {
     "name": "stdout",
     "output_type": "stream",
     "text": [
      "1983-04-13\n"
     ]
    }
   ],
   "source": [
    "dob_me = dt.date(1983, 4, 13)\n",
    "print(dob_me)"
   ]
  },
  {
   "cell_type": "markdown",
   "metadata": {},
   "source": [
    "Create ordinal to store my birthday"
   ]
  },
  {
   "cell_type": "code",
   "execution_count": 6,
   "metadata": {},
   "outputs": [
    {
     "name": "stdout",
     "output_type": "stream",
     "text": [
      "724013\n"
     ]
    }
   ],
   "source": [
    "ord_dob_me = dob_me.toordinal()\n",
    "print(ord_dob_me)"
   ]
  },
  {
   "cell_type": "markdown",
   "metadata": {},
   "source": [
    "Calculate a year in ordinal"
   ]
  },
  {
   "cell_type": "code",
   "execution_count": 7,
   "metadata": {},
   "outputs": [
    {
     "name": "stdout",
     "output_type": "stream",
     "text": [
      "<attribute 'year' of 'datetime.date' objects>\n",
      "<attribute 'year' of 'datetime.date' objects>\n"
     ]
    }
   ],
   "source": [
    "# doesn't work yet\n",
    "year_obj = dt.date.year\n",
    "print(year_obj)\n",
    "\n",
    "print(format(year_obj))"
   ]
  },
  {
   "cell_type": "markdown",
   "metadata": {},
   "source": [
    "Create a function to calculate age:"
   ]
  },
  {
   "cell_type": "code",
   "execution_count": 10,
   "metadata": {},
   "outputs": [],
   "source": [
    "def calculate_age():\n",
    "\n",
    "    # request user input birthdate \n",
    "    year = int(input(\"What year were you born?  \"))\n",
    "    month = int(input(\"What month (1-12) were you born?  \"))\n",
    "    day = int(input(\"What day (1-31) were you born?  \"))\n",
    "\n",
    "    # save to datetime and ordinal types    \n",
    "    dob = dt.date(year, month, day)\n",
    "    ord_dob = dob.toordinal()\n",
    "    \n",
    "    # get today:\n",
    "    today = dt.date.today()\n",
    "    ord_today = today.toordinal()\n",
    "    \n",
    "    # calculate age in days\n",
    "    age_days = ord_today - ord_dob\n",
    "#     year = datetime\n",
    "    age =  (age_days / 365.25) \n",
    "    age_yrs = '{:.2f}'.format(age)\n",
    "    print(\"You are\", age_days, \"days old or\", age_yrs, \"years old!\")    "
   ]
  },
  {
   "cell_type": "code",
   "execution_count": 14,
   "metadata": {},
   "outputs": [
    {
     "name": "stdin",
     "output_type": "stream",
     "text": [
      "What year were you born?   1927\n",
      "What month (1-12) were you born?   8\n",
      "What day (1-31) were you born?   22\n"
     ]
    },
    {
     "name": "stdout",
     "output_type": "stream",
     "text": [
      "You are 33237 days old or 91.00 years old!\n"
     ]
    }
   ],
   "source": [
    "calculate_age()"
   ]
  },
  {
   "cell_type": "markdown",
   "metadata": {},
   "source": [
    "Calculate someone else's birthday"
   ]
  },
  {
   "cell_type": "code",
   "execution_count": 15,
   "metadata": {},
   "outputs": [],
   "source": [
    "dad_dob = dt.date(1946, 10, 7)"
   ]
  },
  {
   "cell_type": "code",
   "execution_count": 16,
   "metadata": {},
   "outputs": [
    {
     "name": "stdout",
     "output_type": "stream",
     "text": [
      "1946-10-07\n"
     ]
    }
   ],
   "source": [
    "print(dad_dob)"
   ]
  },
  {
   "cell_type": "code",
   "execution_count": 17,
   "metadata": {},
   "outputs": [],
   "source": [
    "mom_birthday = dt.date(1949, 10, 23)"
   ]
  },
  {
   "cell_type": "code",
   "execution_count": 18,
   "metadata": {},
   "outputs": [
    {
     "name": "stdout",
     "output_type": "stream",
     "text": [
      "1949-10-23\n"
     ]
    }
   ],
   "source": [
    "print(mom_birthday)"
   ]
  },
  {
   "cell_type": "code",
   "execution_count": 19,
   "metadata": {},
   "outputs": [
    {
     "name": "stdout",
     "output_type": "stream",
     "text": [
      "2018-08-21\n"
     ]
    }
   ],
   "source": [
    "today = dt.date.today()\n",
    "print(today)"
   ]
  },
  {
   "cell_type": "code",
   "execution_count": 20,
   "metadata": {},
   "outputs": [
    {
     "name": "stdout",
     "output_type": "stream",
     "text": [
      "736927\n"
     ]
    }
   ],
   "source": [
    "ord_today = today.toordinal()\n",
    "print(ord_today)"
   ]
  },
  {
   "cell_type": "code",
   "execution_count": 21,
   "metadata": {},
   "outputs": [
    {
     "name": "stdout",
     "output_type": "stream",
     "text": [
      "711788\n"
     ]
    }
   ],
   "source": [
    "ord_mom = mom_birthday.toordinal()\n",
    "print(ord_mom)"
   ]
  },
  {
   "cell_type": "code",
   "execution_count": 22,
   "metadata": {},
   "outputs": [],
   "source": [
    "mom_age_days = ord_today - ord_mom"
   ]
  },
  {
   "cell_type": "code",
   "execution_count": 23,
   "metadata": {},
   "outputs": [
    {
     "name": "stdout",
     "output_type": "stream",
     "text": [
      "25139\n"
     ]
    }
   ],
   "source": [
    "print(mom_age_days)"
   ]
  },
  {
   "cell_type": "markdown",
   "metadata": {},
   "source": [
    "### Import Pandas, Numpy for interacting with DataFrames"
   ]
  },
  {
   "cell_type": "code",
   "execution_count": 24,
   "metadata": {},
   "outputs": [],
   "source": [
    "import pandas as pd\n",
    "import numpy as np"
   ]
  },
  {
   "cell_type": "code",
   "execution_count": 25,
   "metadata": {},
   "outputs": [
    {
     "data": {
      "text/plain": [
       "Index(['Joel', 'Carol', 'Dad', 'Mom'], dtype='object', name='Names')"
      ]
     },
     "execution_count": 25,
     "metadata": {},
     "output_type": "execute_result"
    }
   ],
   "source": [
    "family = pd.Index(data=[\"Joel\", \"Carol\", \"Dad\", \"Mom\"],name=\"Names\")\n",
    "family"
   ]
  },
  {
   "cell_type": "code",
   "execution_count": 26,
   "metadata": {},
   "outputs": [
    {
     "data": {
      "text/plain": [
       "<bound method Index.is_object of Index(['Joel', 'Carol', 'Dad', 'Mom'], dtype='object', name='Names')>"
      ]
     },
     "execution_count": 26,
     "metadata": {},
     "output_type": "execute_result"
    }
   ],
   "source": [
    "family.is_object"
   ]
  },
  {
   "cell_type": "code",
   "execution_count": 94,
   "metadata": {},
   "outputs": [
    {
     "data": {
      "text/html": [
       "<div>\n",
       "<style scoped>\n",
       "    .dataframe tbody tr th:only-of-type {\n",
       "        vertical-align: middle;\n",
       "    }\n",
       "\n",
       "    .dataframe tbody tr th {\n",
       "        vertical-align: top;\n",
       "    }\n",
       "\n",
       "    .dataframe thead th {\n",
       "        text-align: right;\n",
       "    }\n",
       "</style>\n",
       "<table border=\"1\" class=\"dataframe\">\n",
       "  <thead>\n",
       "    <tr style=\"text-align: right;\">\n",
       "      <th></th>\n",
       "    </tr>\n",
       "    <tr>\n",
       "      <th>Names</th>\n",
       "    </tr>\n",
       "  </thead>\n",
       "  <tbody>\n",
       "    <tr>\n",
       "      <th>Joel</th>\n",
       "    </tr>\n",
       "    <tr>\n",
       "      <th>Carol</th>\n",
       "    </tr>\n",
       "    <tr>\n",
       "      <th>Dad</th>\n",
       "    </tr>\n",
       "    <tr>\n",
       "      <th>Mom</th>\n",
       "    </tr>\n",
       "  </tbody>\n",
       "</table>\n",
       "</div>"
      ],
      "text/plain": [
       "Empty DataFrame\n",
       "Columns: []\n",
       "Index: [Joel, Carol, Dad, Mom]"
      ]
     },
     "execution_count": 94,
     "metadata": {},
     "output_type": "execute_result"
    }
   ],
   "source": [
    "df = pd.DataFrame(data=None, index=family, columns=None)\n",
    "df"
   ]
  },
  {
   "cell_type": "code",
   "execution_count": 95,
   "metadata": {},
   "outputs": [
    {
     "data": {
      "text/plain": [
       "4"
      ]
     },
     "execution_count": 95,
     "metadata": {},
     "output_type": "execute_result"
    }
   ],
   "source": [
    "sLength = len(family)\n",
    "sLength"
   ]
  },
  {
   "cell_type": "code",
   "execution_count": 96,
   "metadata": {},
   "outputs": [
    {
     "data": {
      "text/html": [
       "<div>\n",
       "<style scoped>\n",
       "    .dataframe tbody tr th:only-of-type {\n",
       "        vertical-align: middle;\n",
       "    }\n",
       "\n",
       "    .dataframe tbody tr th {\n",
       "        vertical-align: top;\n",
       "    }\n",
       "\n",
       "    .dataframe thead th {\n",
       "        text-align: right;\n",
       "    }\n",
       "</style>\n",
       "<table border=\"1\" class=\"dataframe\">\n",
       "  <thead>\n",
       "    <tr style=\"text-align: right;\">\n",
       "      <th></th>\n",
       "      <th>DOB</th>\n",
       "    </tr>\n",
       "    <tr>\n",
       "      <th>Names</th>\n",
       "      <th></th>\n",
       "    </tr>\n",
       "  </thead>\n",
       "  <tbody>\n",
       "    <tr>\n",
       "      <th>Joel</th>\n",
       "      <td>-0.502228</td>\n",
       "    </tr>\n",
       "    <tr>\n",
       "      <th>Carol</th>\n",
       "      <td>-0.413550</td>\n",
       "    </tr>\n",
       "    <tr>\n",
       "      <th>Dad</th>\n",
       "      <td>0.516330</td>\n",
       "    </tr>\n",
       "    <tr>\n",
       "      <th>Mom</th>\n",
       "      <td>1.850062</td>\n",
       "    </tr>\n",
       "  </tbody>\n",
       "</table>\n",
       "</div>"
      ],
      "text/plain": [
       "            DOB\n",
       "Names          \n",
       "Joel  -0.502228\n",
       "Carol -0.413550\n",
       "Dad    0.516330\n",
       "Mom    1.850062"
      ]
     },
     "execution_count": 96,
     "metadata": {},
     "output_type": "execute_result"
    }
   ],
   "source": [
    "df[\"DOB\"] = pd.Series(np.random.randn(sLength), index=family)\n",
    "df"
   ]
  },
  {
   "cell_type": "code",
   "execution_count": 97,
   "metadata": {},
   "outputs": [
    {
     "data": {
      "text/html": [
       "<div>\n",
       "<style scoped>\n",
       "    .dataframe tbody tr th:only-of-type {\n",
       "        vertical-align: middle;\n",
       "    }\n",
       "\n",
       "    .dataframe tbody tr th {\n",
       "        vertical-align: top;\n",
       "    }\n",
       "\n",
       "    .dataframe thead th {\n",
       "        text-align: right;\n",
       "    }\n",
       "</style>\n",
       "<table border=\"1\" class=\"dataframe\">\n",
       "  <thead>\n",
       "    <tr style=\"text-align: right;\">\n",
       "      <th></th>\n",
       "      <th>DOB</th>\n",
       "    </tr>\n",
       "    <tr>\n",
       "      <th>Names</th>\n",
       "      <th></th>\n",
       "    </tr>\n",
       "  </thead>\n",
       "  <tbody>\n",
       "    <tr>\n",
       "      <th>Joel</th>\n",
       "      <td>1983-04-13</td>\n",
       "    </tr>\n",
       "    <tr>\n",
       "      <th>Carol</th>\n",
       "      <td>1982-09-19</td>\n",
       "    </tr>\n",
       "    <tr>\n",
       "      <th>Dad</th>\n",
       "      <td>1946-10-07</td>\n",
       "    </tr>\n",
       "    <tr>\n",
       "      <th>Mom</th>\n",
       "      <td>1949-10-23</td>\n",
       "    </tr>\n",
       "  </tbody>\n",
       "</table>\n",
       "</div>"
      ],
      "text/plain": [
       "             DOB\n",
       "Names           \n",
       "Joel  1983-04-13\n",
       "Carol 1982-09-19\n",
       "Dad   1946-10-07\n",
       "Mom   1949-10-23"
      ]
     },
     "execution_count": 97,
     "metadata": {},
     "output_type": "execute_result"
    }
   ],
   "source": [
    "df['DOB'] = pd.Series(np.array(['1983-04-13', '1982-09-19', '1946-10-07', '1949-10-23'], dtype='datetime64'), index=family)\n",
    "df"
   ]
  },
  {
   "cell_type": "code",
   "execution_count": 125,
   "metadata": {},
   "outputs": [
    {
     "data": {
      "text/html": [
       "<div>\n",
       "<style scoped>\n",
       "    .dataframe tbody tr th:only-of-type {\n",
       "        vertical-align: middle;\n",
       "    }\n",
       "\n",
       "    .dataframe tbody tr th {\n",
       "        vertical-align: top;\n",
       "    }\n",
       "\n",
       "    .dataframe thead th {\n",
       "        text-align: right;\n",
       "    }\n",
       "</style>\n",
       "<table border=\"1\" class=\"dataframe\">\n",
       "  <thead>\n",
       "    <tr style=\"text-align: right;\">\n",
       "      <th></th>\n",
       "      <th>DOB</th>\n",
       "    </tr>\n",
       "    <tr>\n",
       "      <th>Names</th>\n",
       "      <th></th>\n",
       "    </tr>\n",
       "  </thead>\n",
       "  <tbody>\n",
       "    <tr>\n",
       "      <th>Dad</th>\n",
       "      <td>1946-10-07</td>\n",
       "    </tr>\n",
       "    <tr>\n",
       "      <th>Mom</th>\n",
       "      <td>1949-10-23</td>\n",
       "    </tr>\n",
       "    <tr>\n",
       "      <th>Carol</th>\n",
       "      <td>1982-09-19</td>\n",
       "    </tr>\n",
       "    <tr>\n",
       "      <th>Joel</th>\n",
       "      <td>1983-04-13</td>\n",
       "    </tr>\n",
       "  </tbody>\n",
       "</table>\n",
       "</div>"
      ],
      "text/plain": [
       "             DOB\n",
       "Names           \n",
       "Dad   1946-10-07\n",
       "Mom   1949-10-23\n",
       "Carol 1982-09-19\n",
       "Joel  1983-04-13"
      ]
     },
     "execution_count": 125,
     "metadata": {},
     "output_type": "execute_result"
    }
   ],
   "source": [
    "df.sort_values(by='DOB', ascending=True)"
   ]
  },
  {
   "cell_type": "code",
   "execution_count": 126,
   "metadata": {},
   "outputs": [
    {
     "data": {
      "text/plain": [
       "DOB   1946-10-07\n",
       "Name: Dad, dtype: datetime64[ns]"
      ]
     },
     "execution_count": 126,
     "metadata": {},
     "output_type": "execute_result"
    }
   ],
   "source": [
    "df.loc['Dad']"
   ]
  },
  {
   "cell_type": "markdown",
   "metadata": {},
   "source": [
    "create a for-loop which calculates 'age_days' field"
   ]
  },
  {
   "cell_type": "code",
   "execution_count": 127,
   "metadata": {},
   "outputs": [
    {
     "data": {
      "text/html": [
       "<div>\n",
       "<style scoped>\n",
       "    .dataframe tbody tr th:only-of-type {\n",
       "        vertical-align: middle;\n",
       "    }\n",
       "\n",
       "    .dataframe tbody tr th {\n",
       "        vertical-align: top;\n",
       "    }\n",
       "\n",
       "    .dataframe thead th {\n",
       "        text-align: right;\n",
       "    }\n",
       "</style>\n",
       "<table border=\"1\" class=\"dataframe\">\n",
       "  <thead>\n",
       "    <tr style=\"text-align: right;\">\n",
       "      <th></th>\n",
       "      <th>DOB</th>\n",
       "    </tr>\n",
       "    <tr>\n",
       "      <th>Names</th>\n",
       "      <th></th>\n",
       "    </tr>\n",
       "  </thead>\n",
       "  <tbody>\n",
       "    <tr>\n",
       "      <th>Joel</th>\n",
       "      <td>1983-04-13</td>\n",
       "    </tr>\n",
       "    <tr>\n",
       "      <th>Carol</th>\n",
       "      <td>1982-09-19</td>\n",
       "    </tr>\n",
       "    <tr>\n",
       "      <th>Dad</th>\n",
       "      <td>1946-10-07</td>\n",
       "    </tr>\n",
       "    <tr>\n",
       "      <th>Mom</th>\n",
       "      <td>1949-10-23</td>\n",
       "    </tr>\n",
       "  </tbody>\n",
       "</table>\n",
       "</div>"
      ],
      "text/plain": [
       "             DOB\n",
       "Names           \n",
       "Joel  1983-04-13\n",
       "Carol 1982-09-19\n",
       "Dad   1946-10-07\n",
       "Mom   1949-10-23"
      ]
     },
     "execution_count": 127,
     "metadata": {},
     "output_type": "execute_result"
    }
   ],
   "source": [
    "def calculate_age_df():\n",
    "\n",
    "    # Get today in ordinal:\n",
    "    today = dt.date.today()\n",
    "    ord_today = today.toordinal()\n",
    "\n",
    "    # Create lists to store the data\n",
    "    ord_dob = []\n",
    "    age_days = []\n",
    "    \n",
    "    for x in df['DOB']:\n",
    "        \n",
    "        ord_dob = x.toordinal()\n",
    "#         age_days = ord_today - ord_dob\n",
    "        df['age_days'] = ord_today - ord_dob\n",
    "        \n",
    "#         ord_dob.append(x.toordinal())\n",
    "#         pd.Series(ord_dob, index=family)\n",
    "#         print(ord_dob)\n",
    "\n",
    "# Create a column from the list\n",
    "    df['ord_dob'] = ord_dob\n",
    "    df['age_days'] = age_days\n",
    "\n",
    "df\n",
    "        \n",
    "# from here: https://stackoverflow.com/questions/49821125/pandas-iterate-through-dataframe-and-calculate-difference-between-column-value        \n",
    "# df.assign(Duration=df.groupby('ID').Date.diff().fillna(0))\n",
    "#         df.assign(Age_days=df.groupby('Names').DOB.diff().fillna(0))\n",
    "    \n",
    "# assign output to a pandas series\n",
    "#         s_dob  = pd.Series((ord_dob), index=family)\n",
    "       \n",
    "        # calculate age in days\n",
    "#         df['age_days'] = ord_today - ord_dob\n",
    "        \n",
    "        # calculate age in years year = datetime\n",
    "#         df['age_yrs'] =  (age_days / 365.25) \n",
    "#     age_yrs = '{:.2f}'.format(age)\n",
    "#     print(\"You are\", age_days, \"days old or\", age_yrs, \"years old!\")    "
   ]
  },
  {
   "cell_type": "code",
   "execution_count": 124,
   "metadata": {},
   "outputs": [
    {
     "ename": "NameError",
     "evalue": "name 'age_days' is not defined",
     "traceback": [
      "\u001b[1;31m---------------------------------------------------------------------------\u001b[0m",
      "\u001b[1;31mNameError\u001b[0m                                 Traceback (most recent call last)",
      "\u001b[1;32m<ipython-input-124-3242e5065319>\u001b[0m in \u001b[0;36m<module>\u001b[1;34m()\u001b[0m\n\u001b[1;32m----> 1\u001b[1;33m \u001b[0mage_days\u001b[0m\u001b[1;33m\u001b[0m\u001b[0m\n\u001b[0m",
      "\u001b[1;31mNameError\u001b[0m: name 'age_days' is not defined"
     ],
     "output_type": "error"
    }
   ],
   "source": [
    "age_days"
   ]
  },
  {
   "cell_type": "code",
   "execution_count": 115,
   "metadata": {},
   "outputs": [],
   "source": [
    "calculate_age_df()\n",
    "# df"
   ]
  },
  {
   "cell_type": "code",
   "execution_count": 116,
   "metadata": {},
   "outputs": [
    {
     "data": {
      "text/html": [
       "<div>\n",
       "<style scoped>\n",
       "    .dataframe tbody tr th:only-of-type {\n",
       "        vertical-align: middle;\n",
       "    }\n",
       "\n",
       "    .dataframe tbody tr th {\n",
       "        vertical-align: top;\n",
       "    }\n",
       "\n",
       "    .dataframe thead th {\n",
       "        text-align: right;\n",
       "    }\n",
       "</style>\n",
       "<table border=\"1\" class=\"dataframe\">\n",
       "  <thead>\n",
       "    <tr style=\"text-align: right;\">\n",
       "      <th></th>\n",
       "      <th>DOB</th>\n",
       "    </tr>\n",
       "    <tr>\n",
       "      <th>Names</th>\n",
       "      <th></th>\n",
       "    </tr>\n",
       "  </thead>\n",
       "  <tbody>\n",
       "    <tr>\n",
       "      <th>Joel</th>\n",
       "      <td>1983-04-13</td>\n",
       "    </tr>\n",
       "    <tr>\n",
       "      <th>Carol</th>\n",
       "      <td>1982-09-19</td>\n",
       "    </tr>\n",
       "    <tr>\n",
       "      <th>Dad</th>\n",
       "      <td>1946-10-07</td>\n",
       "    </tr>\n",
       "    <tr>\n",
       "      <th>Mom</th>\n",
       "      <td>1949-10-23</td>\n",
       "    </tr>\n",
       "  </tbody>\n",
       "</table>\n",
       "</div>"
      ],
      "text/plain": [
       "             DOB\n",
       "Names           \n",
       "Joel  1983-04-13\n",
       "Carol 1982-09-19\n",
       "Dad   1946-10-07\n",
       "Mom   1949-10-23"
      ]
     },
     "execution_count": 116,
     "metadata": {},
     "output_type": "execute_result"
    }
   ],
   "source": [
    "df"
   ]
  },
  {
   "cell_type": "code",
   "execution_count": null,
   "metadata": {},
   "outputs": [],
   "source": [
    "p_start_date = [dateparser.parse(x).date() for x in df['start_date']]\n",
    "p_start_date[:5]"
   ]
  },
  {
   "cell_type": "code",
   "execution_count": null,
   "metadata": {},
   "outputs": [],
   "source": [
    "# define columns of dataframe\n",
    "# pd.DataFrame(data=None, index=family, columns='DOB')"
   ]
  },
  {
   "cell_type": "code",
   "execution_count": null,
   "metadata": {},
   "outputs": [],
   "source": [
    "DOB = pd.Series(dtype=)"
   ]
  },
  {
   "cell_type": "markdown",
   "metadata": {},
   "source": [
    "Create a list of family members whose birthdays you know."
   ]
  },
  {
   "cell_type": "code",
   "execution_count": null,
   "metadata": {},
   "outputs": [],
   "source": [
    "def family_member():\n",
    "    name = input(\"Person's name :\")\n",
    "    calculate_age()\n",
    "    family_member = []"
   ]
  },
  {
   "cell_type": "code",
   "execution_count": null,
   "metadata": {},
   "outputs": [],
   "source": [
    "family_member()"
   ]
  },
  {
   "cell_type": "code",
   "execution_count": null,
   "metadata": {},
   "outputs": [],
   "source": [
    "df = pd.DataFrame({\"name\":[], \"DOB\":[]})"
   ]
  },
  {
   "cell_type": "code",
   "execution_count": null,
   "metadata": {},
   "outputs": [],
   "source": [
    "df[\"name\"] = \"Joel\"\n",
    "df[\"DOB\"] = 1982"
   ]
  },
  {
   "cell_type": "code",
   "execution_count": null,
   "metadata": {},
   "outputs": [],
   "source": [
    "pd.DataFrame()"
   ]
  },
  {
   "cell_type": "code",
   "execution_count": null,
   "metadata": {},
   "outputs": [],
   "source": [
    "data = ({'Name': ['Joel', 'Dad', 'Carol', 'Mom'], #input(\"Person's Name\"),\n",
    "    'Year': [1983, 1946, 1982, 1949],  # int(input(\"What year were you born?  \")),\n",
    "    'Month': [4, 10, 9, 10],#int(input(\"What month (1-12) were you born?  \")),\n",
    "    'Day': [13, 7, 19, 23], # int(input(\"What day (1-31) were you born?  \"))\n",
    "})\n",
    "\n",
    "df2 = pd.DataFrame(data, columns=['Name','Year', 'Month', 'Day'],index=None)\n",
    "    # save to datetime and ordinal types    \n",
    "#     birthdate = dt.date(year, month, day)\n",
    "#     ord_birthdate = birthdate.toordinal()\n",
    "\n",
    "df2"
   ]
  },
  {
   "cell_type": "code",
   "execution_count": null,
   "metadata": {},
   "outputs": [],
   "source": [
    "df2['DOB'] = dt.date(year, month, day)"
   ]
  },
  {
   "cell_type": "code",
   "execution_count": null,
   "metadata": {},
   "outputs": [],
   "source": [
    "pd."
   ]
  },
  {
   "cell_type": "code",
   "execution_count": null,
   "metadata": {},
   "outputs": [],
   "source": []
  }
 ],
 "metadata": {
  "kernelspec": {
   "display_name": "Python 3",
   "language": "python",
   "name": "python3"
  },
  "language_info": {
   "codemirror_mode": {
    "name": "ipython",
    "version": 3
   },
   "file_extension": ".py",
   "mimetype": "text/x-python",
   "name": "python",
   "nbconvert_exporter": "python",
   "pygments_lexer": "ipython3",
   "version": "3.7.0"
  }
 },
 "nbformat": 4,
 "nbformat_minor": 2
}
