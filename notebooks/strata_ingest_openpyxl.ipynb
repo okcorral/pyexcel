{
 "cells": [
  {
   "cell_type": "code",
   "execution_count": 1,
   "metadata": {},
   "outputs": [],
   "source": [
    "from openpyxl import load_workbook"
   ]
  },
  {
   "cell_type": "code",
   "execution_count": 8,
   "metadata": {},
   "outputs": [],
   "source": [
    "# TEST_WORKBOOK = './test_data/COG_Ndoki/normalized/COG_Ndoki_normalized.xlsx'\n",
    "TEST_WORKBOOK = r'C:\\Users\\joelm\\Dropbox (Vulcan)\\GECForest_Database\\survey_data\\COG\\COG_Ndoki\\normalized\\COG_Ndoki_normalized.xlsx'"
   ]
  },
  {
   "cell_type": "code",
   "execution_count": 9,
   "metadata": {},
   "outputs": [],
   "source": [
    "STRATA_SHEET_NAME = 'Survey Strata'\n",
    "STRATA_HEADER_COUNT = 2"
   ]
  },
  {
   "cell_type": "code",
   "execution_count": 10,
   "metadata": {},
   "outputs": [],
   "source": [
    "# real ingest would use the Django survey.Stratum class\n",
    "class Stratum():\n",
    "    survey_code = None\n",
    "    name = None\n",
    "    number = None\n",
    "    description = None\n",
    "    survey_method = None\n",
    "    number_transects = None\n",
    "    distance_surveyed = None\n",
    "    number_recces = None\n",
    "    distance_recces = None\n",
    "    stratum_area = None\n",
    "    sampling_intensity = None"
   ]
  },
  {
   "cell_type": "code",
   "execution_count": 11,
   "metadata": {},
   "outputs": [],
   "source": [
    "strata = []"
   ]
  },
  {
   "cell_type": "markdown",
   "metadata": {},
   "source": [
    "Load one worksheet from Excel workbook"
   ]
  },
  {
   "cell_type": "code",
   "execution_count": 14,
   "metadata": {},
   "outputs": [],
   "source": [
    "# data_only resolves the formulae, read_only is a memory optimization that helps if the spreadsheet is huge\n",
    "wb = load_workbook(filename=TEST_WORKBOOK, data_only=True, read_only=True)\n",
    "strata_sheet = wb[STRATA_SHEET_NAME]"
   ]
  },
  {
   "cell_type": "code",
   "execution_count": 18,
   "metadata": {},
   "outputs": [
    {
     "name": "stdout",
     "output_type": "stream",
     "text": [
      "[<__main__.Stratum object at 0x00000296F21B9AC8>, <__main__.Stratum object at 0x00000296E9DB1748>, <__main__.Stratum object at 0x00000296F21BB048>, <__main__.Stratum object at 0x00000296F21BB828>, <__main__.Stratum object at 0x00000296F21A3898>, <__main__.Stratum object at 0x00000296F21A30B8>, <__main__.Stratum object at 0x00000296F21A3588>, <__main__.Stratum object at 0x00000296F219F048>, <__main__.Stratum object at 0x00000296F219FDD8>, <__main__.Stratum object at 0x00000296F219F710>]\n"
     ]
    }
   ],
   "source": [
    "# start with the 3rd row to avoid headers\n",
    "for row in strata_sheet.iter_rows(min_row=STRATA_HEADER_COUNT+1):\n",
    "    stratum = Stratum()\n",
    "    stratum.name = row[1].value\n",
    "    stratum.number = row[2].value\n",
    "    stratum.description = row[3].value\n",
    "    stratum.survey_method = row[4].value\n",
    "    stratum.number_transects = row[5].value\n",
    "    stratum.distance_surveyed = row[6].value\n",
    "    stratum.number_recces = row[7].value\n",
    "    stratum.distance_recces = row[8].value\n",
    "    stratum.stratum_area = row[9].value\n",
    "    stratum.sampling_intensity = row[10].value\n",
    "\n",
    "    strata.append(stratum)\n",
    "\n",
    "print(strata)"
   ]
  },
  {
   "cell_type": "markdown",
   "metadata": {},
   "source": [
    "Use openpyxl to read data from pandas data frame"
   ]
  },
  {
   "cell_type": "code",
   "execution_count": null,
   "metadata": {},
   "outputs": [],
   "source": []
  }
 ],
 "metadata": {
  "kernelspec": {
   "display_name": "Python 3",
   "language": "python",
   "name": "python3"
  },
  "language_info": {
   "codemirror_mode": {
    "name": "ipython",
    "version": 3
   },
   "file_extension": ".py",
   "mimetype": "text/x-python",
   "name": "python",
   "nbconvert_exporter": "python",
   "pygments_lexer": "ipython3",
   "version": "3.5.3"
  }
 },
 "nbformat": 4,
 "nbformat_minor": 2
}
