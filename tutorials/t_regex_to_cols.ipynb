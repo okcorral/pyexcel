{
 "cells": [
  {
   "cell_type": "markdown",
   "metadata": {},
   "source": [
    "Breaking up a string into columns using Regex in pandas"
   ]
  },
  {
   "cell_type": "markdown",
   "metadata": {},
   "source": [
    "https://chrisalbon.com/python/data_wrangling/pandas_regex_to_create_columns/"
   ]
  },
  {
   "cell_type": "markdown",
   "metadata": {},
   "source": [
    "#### Import modules"
   ]
  },
  {
   "cell_type": "code",
   "execution_count": 4,
   "metadata": {},
   "outputs": [],
   "source": [
    "import re\n",
    "import pandas as pd"
   ]
  },
  {
   "cell_type": "markdown",
   "metadata": {},
   "source": [
    "Create df of raw strings"
   ]
  },
  {
   "cell_type": "code",
   "execution_count": 5,
   "metadata": {},
   "outputs": [
    {
     "data": {
      "text/html": [
       "<div>\n",
       "<style scoped>\n",
       "    .dataframe tbody tr th:only-of-type {\n",
       "        vertical-align: middle;\n",
       "    }\n",
       "\n",
       "    .dataframe tbody tr th {\n",
       "        vertical-align: top;\n",
       "    }\n",
       "\n",
       "    .dataframe thead th {\n",
       "        text-align: right;\n",
       "    }\n",
       "</style>\n",
       "<table border=\"1\" class=\"dataframe\">\n",
       "  <thead>\n",
       "    <tr style=\"text-align: right;\">\n",
       "      <th></th>\n",
       "      <th>raw</th>\n",
       "    </tr>\n",
       "  </thead>\n",
       "  <tbody>\n",
       "    <tr>\n",
       "      <th>0</th>\n",
       "      <td>Arizona 1 2014-12-23       3242.0</td>\n",
       "    </tr>\n",
       "    <tr>\n",
       "      <th>1</th>\n",
       "      <td>Iowa 1 2010-02-23       3453.7</td>\n",
       "    </tr>\n",
       "    <tr>\n",
       "      <th>2</th>\n",
       "      <td>Oregon 0 2014-06-20       2123.0</td>\n",
       "    </tr>\n",
       "    <tr>\n",
       "      <th>3</th>\n",
       "      <td>Maryland 0 2014-03-14       1123.6</td>\n",
       "    </tr>\n",
       "    <tr>\n",
       "      <th>4</th>\n",
       "      <td>Florida 1 2013-01-15       2134.0</td>\n",
       "    </tr>\n",
       "    <tr>\n",
       "      <th>5</th>\n",
       "      <td>Georgia 0 2012-07-14       2345.6</td>\n",
       "    </tr>\n",
       "  </tbody>\n",
       "</table>\n",
       "</div>"
      ],
      "text/plain": [
       "                                  raw\n",
       "0   Arizona 1 2014-12-23       3242.0\n",
       "1      Iowa 1 2010-02-23       3453.7\n",
       "2    Oregon 0 2014-06-20       2123.0\n",
       "3  Maryland 0 2014-03-14       1123.6\n",
       "4   Florida 1 2013-01-15       2134.0\n",
       "5   Georgia 0 2012-07-14       2345.6"
      ]
     },
     "execution_count": 5,
     "metadata": {},
     "output_type": "execute_result"
    }
   ],
   "source": [
    "# Create a dataframe with a single column of strings\n",
    "data = {'raw': ['Arizona 1 2014-12-23       3242.0',\n",
    "                'Iowa 1 2010-02-23       3453.7',\n",
    "                'Oregon 0 2014-06-20       2123.0',\n",
    "                'Maryland 0 2014-03-14       1123.6',\n",
    "                'Florida 1 2013-01-15       2134.0',\n",
    "                'Georgia 0 2012-07-14       2345.6']}\n",
    "df = pd.DataFrame(data, columns = ['raw'])\n",
    "df"
   ]
  },
  {
   "cell_type": "markdown",
   "metadata": {},
   "source": [
    "Search column of strings for a pattern"
   ]
  },
  {
   "cell_type": "code",
   "execution_count": 6,
   "metadata": {},
   "outputs": [
    {
     "data": {
      "text/plain": [
       "0    True\n",
       "1    True\n",
       "2    True\n",
       "3    True\n",
       "4    True\n",
       "5    True\n",
       "Name: raw, dtype: bool"
      ]
     },
     "execution_count": 6,
     "metadata": {},
     "output_type": "execute_result"
    }
   ],
   "source": [
    "# Which rows of df['raw'] contain 'xxxx-xx-xx'?\n",
    "df['raw'].str.contains('....-..-..', regex=True)"
   ]
  },
  {
   "cell_type": "markdown",
   "metadata": {},
   "source": [
    "Extract column of single digits"
   ]
  },
  {
   "cell_type": "code",
   "execution_count": 8,
   "metadata": {},
   "outputs": [
    {
     "data": {
      "text/plain": [
       "0    1\n",
       "1    1\n",
       "2    0\n",
       "3    0\n",
       "4    1\n",
       "5    0\n",
       "Name: female, dtype: object"
      ]
     },
     "execution_count": 8,
     "metadata": {},
     "output_type": "execute_result"
    }
   ],
   "source": [
    "# In the column 'raw', extract single digit in the strings\n",
    "df['female'] = df['raw'].str.extract('(\\d)', expand=True)\n",
    "df['female']"
   ]
  },
  {
   "cell_type": "markdown",
   "metadata": {},
   "source": [
    "Extract the column of dates"
   ]
  },
  {
   "cell_type": "code",
   "execution_count": 9,
   "metadata": {},
   "outputs": [
    {
     "data": {
      "text/plain": [
       "0    2014-12-23\n",
       "1    2010-02-23\n",
       "2    2014-06-20\n",
       "3    2014-03-14\n",
       "4    2013-01-15\n",
       "5    2012-07-14\n",
       "Name: date, dtype: object"
      ]
     },
     "execution_count": 9,
     "metadata": {},
     "output_type": "execute_result"
    }
   ],
   "source": [
    "# In the column 'raw', extract xxxx-xx-xx in the strings\n",
    "df['date'] = df['raw'].str.extract('(....-..-..)', expand=True)\n",
    "df['date']"
   ]
  },
  {
   "cell_type": "markdown",
   "metadata": {},
   "source": [
    "Extract the column of thousands"
   ]
  },
  {
   "cell_type": "code",
   "execution_count": 14,
   "metadata": {},
   "outputs": [
    {
     "data": {
      "text/plain": [
       "0    3242.0\n",
       "1    3453.7\n",
       "2    2123.0\n",
       "3    1123.6\n",
       "4    2134.0\n",
       "5    2345.6\n",
       "Name: score, dtype: object"
      ]
     },
     "execution_count": 14,
     "metadata": {},
     "output_type": "execute_result"
    }
   ],
   "source": [
    "df['score'] = df['raw'].str.extract('(\\d\\d\\d\\d\\.\\d)', expand = True)\n",
    "df['score']"
   ]
  },
  {
   "cell_type": "markdown",
   "metadata": {},
   "source": [
    "Extract the column of words"
   ]
  },
  {
   "cell_type": "code",
   "execution_count": 19,
   "metadata": {},
   "outputs": [
    {
     "data": {
      "text/plain": [
       "0     Arizona\n",
       "1        Iowa\n",
       "2      Oregon\n",
       "3    Maryland\n",
       "4     Florida\n",
       "5     Georgia\n",
       "Name: state, dtype: object"
      ]
     },
     "execution_count": 19,
     "metadata": {},
     "output_type": "execute_result"
    }
   ],
   "source": [
    "df['state'] = df['raw'].str.extract('([A-Z]\\w{0,})', expand=True)\n",
    "df['state']"
   ]
  },
  {
   "cell_type": "markdown",
   "metadata": {},
   "source": [
    "View final dataframe"
   ]
  },
  {
   "cell_type": "code",
   "execution_count": 20,
   "metadata": {},
   "outputs": [
    {
     "data": {
      "text/html": [
       "<div>\n",
       "<style scoped>\n",
       "    .dataframe tbody tr th:only-of-type {\n",
       "        vertical-align: middle;\n",
       "    }\n",
       "\n",
       "    .dataframe tbody tr th {\n",
       "        vertical-align: top;\n",
       "    }\n",
       "\n",
       "    .dataframe thead th {\n",
       "        text-align: right;\n",
       "    }\n",
       "</style>\n",
       "<table border=\"1\" class=\"dataframe\">\n",
       "  <thead>\n",
       "    <tr style=\"text-align: right;\">\n",
       "      <th></th>\n",
       "      <th>raw</th>\n",
       "      <th>female</th>\n",
       "      <th>date</th>\n",
       "      <th>score</th>\n",
       "      <th>states</th>\n",
       "      <th>state</th>\n",
       "    </tr>\n",
       "  </thead>\n",
       "  <tbody>\n",
       "    <tr>\n",
       "      <th>0</th>\n",
       "      <td>Arizona 1 2014-12-23       3242.0</td>\n",
       "      <td>1</td>\n",
       "      <td>2014-12-23</td>\n",
       "      <td>3242.0</td>\n",
       "      <td>A</td>\n",
       "      <td>Arizona</td>\n",
       "    </tr>\n",
       "    <tr>\n",
       "      <th>1</th>\n",
       "      <td>Iowa 1 2010-02-23       3453.7</td>\n",
       "      <td>1</td>\n",
       "      <td>2010-02-23</td>\n",
       "      <td>3453.7</td>\n",
       "      <td>I</td>\n",
       "      <td>Iowa</td>\n",
       "    </tr>\n",
       "    <tr>\n",
       "      <th>2</th>\n",
       "      <td>Oregon 0 2014-06-20       2123.0</td>\n",
       "      <td>0</td>\n",
       "      <td>2014-06-20</td>\n",
       "      <td>2123.0</td>\n",
       "      <td>O</td>\n",
       "      <td>Oregon</td>\n",
       "    </tr>\n",
       "    <tr>\n",
       "      <th>3</th>\n",
       "      <td>Maryland 0 2014-03-14       1123.6</td>\n",
       "      <td>0</td>\n",
       "      <td>2014-03-14</td>\n",
       "      <td>1123.6</td>\n",
       "      <td>M</td>\n",
       "      <td>Maryland</td>\n",
       "    </tr>\n",
       "    <tr>\n",
       "      <th>4</th>\n",
       "      <td>Florida 1 2013-01-15       2134.0</td>\n",
       "      <td>1</td>\n",
       "      <td>2013-01-15</td>\n",
       "      <td>2134.0</td>\n",
       "      <td>F</td>\n",
       "      <td>Florida</td>\n",
       "    </tr>\n",
       "    <tr>\n",
       "      <th>5</th>\n",
       "      <td>Georgia 0 2012-07-14       2345.6</td>\n",
       "      <td>0</td>\n",
       "      <td>2012-07-14</td>\n",
       "      <td>2345.6</td>\n",
       "      <td>G</td>\n",
       "      <td>Georgia</td>\n",
       "    </tr>\n",
       "  </tbody>\n",
       "</table>\n",
       "</div>"
      ],
      "text/plain": [
       "                                  raw female        date   score states  \\\n",
       "0   Arizona 1 2014-12-23       3242.0      1  2014-12-23  3242.0      A   \n",
       "1      Iowa 1 2010-02-23       3453.7      1  2010-02-23  3453.7      I   \n",
       "2    Oregon 0 2014-06-20       2123.0      0  2014-06-20  2123.0      O   \n",
       "3  Maryland 0 2014-03-14       1123.6      0  2014-03-14  1123.6      M   \n",
       "4   Florida 1 2013-01-15       2134.0      1  2013-01-15  2134.0      F   \n",
       "5   Georgia 0 2012-07-14       2345.6      0  2012-07-14  2345.6      G   \n",
       "\n",
       "      state  \n",
       "0   Arizona  \n",
       "1      Iowa  \n",
       "2    Oregon  \n",
       "3  Maryland  \n",
       "4   Florida  \n",
       "5   Georgia  "
      ]
     },
     "execution_count": 20,
     "metadata": {},
     "output_type": "execute_result"
    }
   ],
   "source": [
    "df"
   ]
  },
  {
   "cell_type": "code",
   "execution_count": null,
   "metadata": {},
   "outputs": [],
   "source": []
  }
 ],
 "metadata": {
  "kernelspec": {
   "display_name": "Python 3",
   "language": "python",
   "name": "python3"
  },
  "language_info": {
   "codemirror_mode": {
    "name": "ipython",
    "version": 3
   },
   "file_extension": ".py",
   "mimetype": "text/x-python",
   "name": "python",
   "nbconvert_exporter": "python",
   "pygments_lexer": "ipython3",
   "version": "3.5.3"
  }
 },
 "nbformat": 4,
 "nbformat_minor": 2
}
